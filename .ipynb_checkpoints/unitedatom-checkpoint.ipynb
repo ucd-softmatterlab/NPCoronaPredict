{
 "cells": [
  {
   "cell_type": "code",
   "execution_count": 2,
   "metadata": {
    "collapsed": true
   },
   "outputs": [],
   "source": [
    "import numpy as np\n",
    "import matplotlib.pyplot as plt\n",
    "%matplotlib inline"
   ]
  },
  {
   "cell_type": "code",
   "execution_count": 8,
   "metadata": {
    "collapsed": true
   },
   "outputs": [],
   "source": [
    "def SubSet(X, Y, y_max = 10, offset = 3):\n",
    "    y_min = np.min(Y) - offset\n",
    "    mask = np.bitwise_and(Y > y_min, Y < y_max)\n",
    "    return X[mask], Y[mask]"
   ]
  },
  {
   "cell_type": "code",
   "execution_count": 3,
   "metadata": {
    "collapsed": false
   },
   "outputs": [],
   "source": [
    "# 5nm Radius\n",
    "\n",
    "surface_5_data     = np.genfromtxt('surface_5.dat')\n",
    "surface_5_distance = surface_5_data[:,0]\n",
    "surface_5_energy   = surface_5_data[:,1]\n",
    "\n",
    "core_5_data        = np.genfromtxt('core_5.dat')\n",
    "core_5_distance    = core_5_data[:,0]\n",
    "core_5_energy      = core_5_data[:,1]\n",
    "\n",
    "both_5_data        = np.genfromtxt('both_5.dat')\n",
    "both_5_distance    = both_5_data[:,0]\n",
    "both_5_energy      = both_5_data[:,1]\n",
    "\n",
    "# 50nm Raduis\n",
    "\n",
    "surface_50_data     = np.genfromtxt('surface_50.dat')\n",
    "surface_50_distance = surface_50_data[:,0]\n",
    "surface_50_energy   = surface_50_data[:,1]\n",
    "\n",
    "core_50_data        = np.genfromtxt('core_50.dat')\n",
    "core_50_distance    = core_50_data[:,0]\n",
    "core_50_energy      = core_50_data[:,1]\n",
    "\n",
    "both_50_data        = np.genfromtxt('both_50.dat')\n",
    "both_50_distance    = both_50_data[:,0]\n",
    "both_50_energy      = both_50_data[:,1]"
   ]
  },
  {
   "cell_type": "code",
   "execution_count": null,
   "metadata": {
    "collapsed": true
   },
   "outputs": [],
   "source": []
  },
  {
   "cell_type": "code",
   "execution_count": 7,
   "metadata": {
    "collapsed": false
   },
   "outputs": [
    {
     "data": {
      "text/plain": [
       "[<matplotlib.lines.Line2D at 0x7f307b56fd50>]"
      ]
     },
     "execution_count": 7,
     "metadata": {},
     "output_type": "execute_result"
    },
    {
     "data": {
      "image/png": "[encoded data removed]",
      "text/plain": [
       "<Figure size 432x288 with 2 Axes>"
      ]
     },
     "metadata": {},
     "output_type": "display_data"
    }
   ],
   "source": [
    "ax1 = plt.subplot(2, 1, 1)\n",
    "ax1.plot(surface_5_distance, surface_5_energy)\n",
    "ax1.plot(core_5_distance, core_5_energy)\n",
    "ax1.plot(both_5_distance, both_5_energy)\n",
    "\n",
    "ax2 = plt.subplot(2, 1, 2)\n",
    "ax2.plot(surface_50_distance, surface_50_energy)\n",
    "ax2.plot(core_50_distance, core_50_energy)\n",
    "ax2.plot(both_50_distance, both_50_energy)\n",
    "\n"
   ]
  },
  {
   "cell_type": "code",
   "execution_count": null,
   "metadata": {
    "collapsed": true
   },
   "outputs": [],
   "source": []
  }
 ],
 "metadata": {
  "kernelspec": {
   "display_name": "Python 2",
   "language": "python",
   "name": "python2"
  },
  "language_info": {
   "codemirror_mode": {
    "name": "ipython",
    "version": 2
   },
   "file_extension": ".py",
   "mimetype": "text/x-python",
   "name": "python",
   "nbconvert_exporter": "python",
   "pygments_lexer": "ipython2",
   "version": "2.7.15+"
  }
 },
 "nbformat": 4,
 "nbformat_minor": 2
}
