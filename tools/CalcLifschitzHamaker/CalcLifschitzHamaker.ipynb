{
 "cells": [
  {
   "cell_type": "code",
   "execution_count": 9,
   "metadata": {},
   "outputs": [],
   "source": [
    "import warnings\n",
    "warnings.filterwarnings(\"ignore\")\n",
    "import os\n",
    "import numpy as np\n",
    "import pandas as pd\n",
    "import scipy as sp\n",
    "import scipy.ndimage\n",
    "from rdkit import Chem \n",
    "from rdkit.Chem import rdqueries , rdCoordGen, Lipinski , AllChem, Draw\n",
    "from rdkit.Chem.rdmolfiles import SDWriter\n",
    "import MDAnalysis as mda\n",
    "from MDAnalysis import Universe, Merge, transformations\n",
    "from scipy.spatial import ConvexHull"
   ]
  },
  {
   "cell_type": "markdown",
   "metadata": {},
   "source": [
    "# Calculating Volumes"
   ]
  },
  {
   "cell_type": "code",
   "execution_count": 10,
   "metadata": {
    "scrolled": true
   },
   "outputs": [],
   "source": [
    "colnames=[\"AA\",\"RefractiveIndex\", \"Charge\", \"SMILES\",\"Mass\",\"Volume\",\"Volume_corr\", \"Radii\",\"Radii_corr\",'Density' ] \n",
    "aminoAcidData = pd.read_csv(r'data/aminoAcidData_2023_js.csv', names=colnames, header = None, index_col = 0)"
   ]
  },
  {
   "cell_type": "code",
   "execution_count": 11,
   "metadata": {},
   "outputs": [],
   "source": [
    "#atom RBondi (Å) \n",
    "#Yuan H. Zhao, Michael H. Abraham,* and Andreas M. Zissimos†\n",
    "#J. Org. Chem, Vol. 68, No. 19, 2003 7369\n",
    "bondiDic={\n",
    "    \"H\" : 1.20 ,\n",
    "    \"P\" : 1.80 ,\n",
    "    \"C\" : 1.70 ,\n",
    "    \"S\" : 1.80 ,\n",
    "    \"N\" : 1.55 ,\n",
    "    \"As\" : 1.85 ,\n",
    "    \"O\" : 1.52 ,\n",
    "    \"B\" : 2.13 ,\n",
    "    \"F\" : 1.47 ,\n",
    "    \"Si\" : 2.10 ,\n",
    "    \"Cl\" : 1.75 ,\n",
    "    \"Se\" : 1.90 ,\n",
    "    \"Br\" : 1.85 ,\n",
    "    \"Te\" : 2.06 ,\n",
    "    \"I\" : 1.98      \n",
    "}"
   ]
  },
  {
   "cell_type": "code",
   "execution_count": 12,
   "metadata": {},
   "outputs": [],
   "source": [
    "aaOnly={\"GLY\":\"GLY\",\"ALA\":\"ALA\",\"ARG\":\"ARG\",\"ASN\":\"ASN\",\n",
    "      \"ASP\":\"ASP\",\"CYS\":\"CYS\",\"GLN\":\"GLN\",\"GLU\":\"GLU\",\n",
    "      \"HIS\":\"HIS\",\"ILE\" :\"ILE\",\"LEU\":\"LEU\",\"LYS\":\"LYS\",\n",
    "      \"MET\":\"MET\",\"PHE\" :\"PHE\",\"PRO\":\"PRO\",\"SER\":\"SER\", \n",
    "      \"THR\":\"THR\",\"TRP\" :\"TRP\",\"TYR\":\"TYR\",\"VAL\":\"VAL\",\n",
    "      \"HSD\":\"HID\",\"HSE\" :\"HIE\",\"HSP\":\"HIP\", \"HIS\":\"HIS\",\n",
    "      \"CYM\":\"CYM\",\"ASPP\":\"PAS\",\"GLUP\":\"PGL\"}"
   ]
  },
  {
   "cell_type": "code",
   "execution_count": 13,
   "metadata": {},
   "outputs": [],
   "source": [
    "#notes:\n",
    "#name of bead's pdb = name of CHARMM residue (to find later the starting point)\n",
    "#name of UA bead should consist of 3 letters otherwise UA can not see it\n",
    "#clean PDBs after running canonical rotations & propka to have 3-letter UA residue names\n",
    "#ensure that UA residues in PDB has al least one CA atom name (check for non-aminoacid residues specifically), re-name where necessarily \n",
    "charmm_to_UA3Letter={\"GLY\":\"GLY\",\"ALA\":\"ALA\",\"ARG\":\"ARG\",\"ASN\":\"ASN\",\n",
    "                      \"ASP\":\"ASP\",\"CYS\":\"CYS\",\"GLN\":\"GLN\",\"GLU\":\"GLU\",\n",
    "                      \"HIS\":\"HIS\",\"ILE\" :\"ILE\",\"LEU\":\"LEU\",\"LYS\":\"LYS\",\n",
    "                      \"MET\":\"MET\",\"PHE\" :\"PHE\",\"PRO\":\"PRO\",\"SER\":\"SER\", \n",
    "                      \"THR\":\"THR\",\"TRP\" :\"TRP\",\"TYR\":\"TYR\",\"VAL\":\"VAL\",\n",
    "                      \"HSD\":\"HID\",\"HSE\" :\"HIE\",\"HSP\":\"HIP\", \"HIS\":\"HIS\",\n",
    "                      \"CYM\":\"CYM\",\"PASP\":\"PAS\",\"PGLU\":\"PGL\",\n",
    "                      \"BGLC\":\"BGL\",\"AMAN\":\"MAN\",\"AFUC\":\"FUC\", #carbs\n",
    "                      \"BGLCNA\":\"NGL\",\"BGALNA\":\"NGA\", #N-glycolization\n",
    "                      \"NC4\":\"NC4\",\"MAS\":\"MAS\",\"DMEP\":\"DMP\",\"MAMM\":\"MMM\", #lipids\n",
    "                      \"BTE2\":\"BTE\", \"CHOL\":\"CHO\", \"CHL1\":\"CHL\", #lipids\n",
    "                      \"PROA\":\"PRA\"} #extras: propionic acid                 "
   ]
  },
  {
   "cell_type": "code",
   "execution_count": 14,
   "metadata": {},
   "outputs": [],
   "source": [
    "wd=os.getcwd()\n",
    "beadsDir=wd+\"/beads/\"  #folder with crd and psf files, can be pdb as well"
   ]
  },
  {
   "cell_type": "code",
   "execution_count": 15,
   "metadata": {},
   "outputs": [],
   "source": [
    "def fill_with_points(density, origin, rShpere):\n",
    "    phi         = np.random.uniform( 0.0, 2.0*np.pi, size=(density,))\n",
    "    theta_cos   = np.random.uniform(-1.0,       1.0, size=(density,))\n",
    "    u           = np.random.uniform( 0.0,       1.0, size=(density,))\n",
    "    theta_sin   = np.sqrt(1.0 - theta_cos**2.0)\n",
    "    r           = rShpere * np.cbrt(u)\n",
    "    return np.array([\n",
    "        np.array([\n",
    "            origin[0] + r[i] * theta_sin[i] * np.cos(phi[i]),\n",
    "            origin[1] + r[i] * theta_sin[i] * np.sin(phi[i]),\n",
    "            origin[2] + r[i] * theta_cos[i]\n",
    "        ]) for i in range(density)\n",
    "    ])"
   ]
  },
  {
   "cell_type": "code",
   "execution_count": 16,
   "metadata": {},
   "outputs": [],
   "source": [
    "sdfOut=wd+\"/CustomAABeadSet.sdf\"\n",
    "writer = SDWriter(sdfOut)\n",
    "crds=[]\n",
    "for crd in os.listdir(beadsDir):\n",
    "    if crd.endswith(\".crd\"):\n",
    "                crds.append(crd)\n",
    "for CRD in crds:\n",
    "    crdIn=beadsDir+CRD\n",
    "    psfIn=beadsDir+CRD.rsplit(\".\")[0]+\".psf\"\n",
    "    AA=charmm_to_UA3Letter[CRD.rsplit(\".\")[0].upper()]\n",
    "    uIn = Universe(psfIn,crdIn)\n",
    "    guessed_elements = mda.topology.guessers.guess_types(uIn.atoms.names)\n",
    "    uIn.add_TopologyAttr('elements', guessed_elements)\n",
    "    mass=np.sum(uIn.atoms.masses)\n",
    "    mol = uIn.atoms.convert_to(\"RDKIT\")\n",
    "    mol.SetProp('ID', \"CHARMM RESI name:\" +CRD.rsplit(\".\")[0])\n",
    "    mol.SetProp('_Name', AA)\n",
    "    rdCoordGen.AddCoords(mol)\n",
    "    writer.write(mol)\n",
    "    smile=Chem.MolToSmiles(mol)\n",
    "    shapeArr=[]\n",
    "    for atom in uIn.atoms:\n",
    "        array=(fill_with_points(20000, atom.position, bondiDic[atom.element]))\n",
    "        for i, coor in enumerate(array):\n",
    "            shapeArr.append([coor[0],coor[1], coor[2]])\n",
    "    a3_to_nm3 = 10 ** (-3)\n",
    "    a3_to_cm3 = 10 ** (-24)\n",
    "    vol_cm3    = a3_to_cm3*ConvexHull(shapeArr).volume # in nm^3/g\n",
    "    vol        = a3_to_nm3*ConvexHull(shapeArr).volume # in nm^3/g\n",
    "    radius     = ((3/(4*sp.constants.pi))*vol) ** (1. / 3.) # radii\n",
    "    density    = mass/(vol_cm3*sp.constants.Avogadro) # for density plot [g/cm3]\n",
    "    vol_corr   = vol*(density/1.5) # 1.5 is desired density\n",
    "    radius_corr = ((3/(4*sp.constants.pi))*vol_corr) ** (1. / 3.) # radii   \n",
    "    aminoAcidData['SMILES'][AA]    = smile\n",
    "    aminoAcidData['Mass'][AA]      = round(mass, 1)   #in g/mol\n",
    "    aminoAcidData['Density'][AA]   = round(density, 3) #in g/cm3\n",
    "    aminoAcidData['Volume'][AA]    = round(vol ,3)   #in nm*3\n",
    "    aminoAcidData['Radii'][AA]     = round(radius, 3) #in nm\n",
    "    aminoAcidData['Volume_corr'][AA]    = round(vol_corr , 3)   #in nm*3\n",
    "    aminoAcidData['Radii_corr'][AA]     = round(radius_corr, 3) #in nm"
   ]
  },
  {
   "cell_type": "markdown",
   "metadata": {},
   "source": [
    "<h1>Print strings for config file and list of beads.</h1>"
   ]
  },
  {
   "cell_type": "code",
   "execution_count": 17,
   "metadata": {},
   "outputs": [
    {
     "name": "stdout",
     "output_type": "stream",
     "text": [
      "amino-acids = [ GLY, ALA, ARG, ASN, ASP, CYS, GLN, GLU, HID, HIE, HIP, HIS, ILE, LEU, LYS, MET, PHE, PRO, SER, THR, TRP, TYR, VAL, CYM, PAS, PGL, BGL, MAN, FUC, NGL, NGA, NC4, MAS, DMP, MMM, BTE, CHO, CHL ]\n",
      "amino-acid-charges = [ 0.000, 0.000, 1.000, 0.000, -1.000, 0.000, 0.000, -1.000, 0.000, 0.000, 1.000, 0.500, 0.000, 0.000, 1.000, 0.000, 0.000, 0.000, 0.000, 0.000, 0.000, 0.000, 0.000, -1.000, 0.000, 0.000, 0.000, 0.000, 0.000, 0.000, 0.000, 1.000, 0.000, -1.000, 1.000, 0.000, 1.000, 0.000 ]\n",
      "amino-acid-radii = [ 0.271, 0.266, 0.346, 0.311, 0.311, 0.301, 0.324, 0.324, 0.331, 0.331, 0.332, 0.332, 0.310, 0.310, 0.324, 0.326, 0.339, 0.295, 0.284, 0.299, 0.366, 0.351, 0.297, 0.317, 0.328, 0.339, 0.362, 0.362, 0.351, 0.388, 0.388, 0.270, 0.270, 0.321, 0.204, 0.246, 0.302, 0.468 ]\n"
     ]
    }
   ],
   "source": [
    "print(\"amino-acids = [ \" + \", \".join([ \"{:.6}\".format(r) for r in aminoAcidData.index ]) + \" ]\")\n",
    "print(\"amino-acid-charges = [ \" + \", \".join([ \"{:.3f}\".format(r) for r in aminoAcidData['Charge'].values ]) + \" ]\")\n",
    "print(\"amino-acid-radii = [ \" + \", \".join([ \"{:.3f}\".format(r) for r in aminoAcidData['Radii_corr'].values ]) + \" ]\")\n"
   ]
  },
  {
   "cell_type": "code",
   "execution_count": 27,
   "metadata": {},
   "outputs": [],
   "source": [
    "#List of beads to include in UA autogenerated config files, providing the three-letter code, charge and radius to write to config files.\n",
    "#Used in corona tool\n",
    "#BeadID,Charge[e],Radius[nm]\n",
    "f = open(\"CustomAABeadSet.csv\", \"a\")\n",
    "f.write(\"#BeadID,Charge[e],Radius[nm]\\n\")\n",
    "for i,aa in enumerate(aminoAcidData.index.tolist()):\n",
    "    chrg=aminoAcidData['Charge'].values.tolist()[i]\n",
    "    rds=aminoAcidData['Radii_corr'].values.tolist()[i]\n",
    "    f.write((\"{},{},{}\\n\").format(aa, chrg,rds))\n",
    "f.close()"
   ]
  },
  {
   "cell_type": "markdown",
   "metadata": {},
   "source": [
    "<h1> Hamaker Constant Calculation </h1>"
   ]
  },
  {
   "cell_type": "code",
   "execution_count": 21,
   "metadata": {},
   "outputs": [],
   "source": [
    "kT            = 1.38064852e-23 * 300\n",
    "h             = 6.62607e-34"
   ]
  },
  {
   "cell_type": "code",
   "execution_count": 22,
   "metadata": {},
   "outputs": [],
   "source": [
    "class Material:\n",
    "    def __init__(self, name, e, n , v):\n",
    "        self.name = name\n",
    "        self._e    = e  # Dielectric Constant\n",
    "        self._n    = n  # Refractive Index\n",
    "        self._v    = v  # Peak adsorption frequency"
   ]
  },
  {
   "cell_type": "code",
   "execution_count": 23,
   "metadata": {},
   "outputs": [],
   "source": [
    "def HamakerInsulator(material, aminoAcid):\n",
    "    global kT\n",
    "    global h\n",
    "    global aminoAcidData\n",
    "    \n",
    "    n1 = aminoAcidData['RefractiveIndex'][aminoAcid]  # Amino Acid \n",
    "    n2 = material._n                                  # Nanomaterial\n",
    "    n3 = 1.33                                         # Water\n",
    "\n",
    "    e1 = n2 ** 2.0    # Amino Acid\n",
    "    e2 = material._e  # Nanomaterial\n",
    "    e3 = 81.0         # Water\n",
    "\n",
    "    ve = material._v # Peak adsorption for the material in the UV\n",
    "    \n",
    "    first  = (3.0 / 4.0) * kT * ((e1 - e3) / (e1 + e3)) * ((e2 - e3) / (e2 + e3))\n",
    "    coef   = ((3.0 * h * ve) / (8.0 * np.sqrt(2.0)))\n",
    "    npart  = ((n1 * n1 - n3 * n3) * (n2 * n2 - n3 * n3)) / (np.sqrt((n1 * n1 + n3 * n3) * (n2 * n2 + n3 * n3)) * (np.sqrt(n1 * n1 + n3 * n3) + np.sqrt(n2 * n2 + n3 * n3)))\n",
    "    second = coef * npart\n",
    "    \n",
    "    #print(first, second)\n",
    "    \n",
    "    return first + second"
   ]
  },
  {
   "cell_type": "code",
   "execution_count": 24,
   "metadata": {},
   "outputs": [],
   "source": [
    "def HamakerMetal(material, aminoAcid):\n",
    "    global kT\n",
    "    global h\n",
    "    global refractiveIndex\n",
    "\n",
    "    n1 = aminoAcidData['RefractiveIndex'][aminoAcid]  # Amino Acid    \n",
    "    n2 = material._n                                  # Nanomaterial\n",
    "    n3 = 1.32                                         # Water\n",
    "\n",
    "    v1 = 2.5e15      # Amino Acid (Rough estimate based on other organic molecules in Israelachvili book)    \n",
    "    v2 = material._v # Nanomaterial\n",
    "    v3 = 3.0e15      # Water (from Israelachvili book)\n",
    "\n",
    "    \n",
    "    coef  = (3.0 * h ) / (8.0 * np.sqrt(2.0))\n",
    "    npart = (n1 * n1 - n3 * n3) / (n1 * n1 + n3 * n3)\n",
    "    vpart = (v2 * np.sqrt(v1 * v3)) / (np.sqrt(v1 * v3) + v2 / np.sqrt(n1 * n1 - n3 * n3))\n",
    "      \n",
    "    return coef * npart * vpart"
   ]
  },
  {
   "cell_type": "code",
   "execution_count": 26,
   "metadata": {},
   "outputs": [],
   "source": [
    "#\n",
    "# NM  parameters\n",
    "#\n",
    "\n",
    "gold            = Material('Au', None,  0.18104, 3.00e16) # wavelength, as per VL suggestion;  Sopra Material Library https://www.filmetrics.com/refractive-index-database/Au/Gold\n",
    "silver          = Material('Ag', None, 0.13511, 3.00e16) #  wavelength, as per VL suggestion; P. Winsemius, F. F. van Kampen, H. P. Lengkeek, and C. G. van Went, J. Phys. F 6, 1583 (1976) \n",
    "copper          = Material('Cu', None,  0.23883, 3.00e16) #  wavelength, as per VL suggestion; H. J. Hagemann, W. Gudat, and C. Kunz, DESY Report SR-74/7, Hamburg, 1974; H. J. Hagemann, W. Gudat, and C. Kunz, J. Opt. Soc. Am. 65, 742 (1975) \n",
    "nickel          = Material('Ni', None,  1.95776, 3.00e16) #  wavelength, as per VL suggestion; H. J. Hagemann, W. Gudat, and C. Kunz, DESY Report SR-74/7, Hamburg, 1974; H.\n",
    "iron            = Material('Fe', None, 2.9304, 5.10e14)\n",
    "alumina         = Material('Al', None,  1.37289, 3.23e15) # \n",
    "\n",
    "peg             = Material('PEG', 17.3, 1.493, 9.99e14)\n",
    "ps              = Material('PS', 2.500, 1.711, 1.15e15)\n",
    "cooh             = Material('COOH', 33.5, 1.375, 1.00e15)\n",
    "coo              = Material('COO', 33.5, 1.375, 1.00e15)\n",
    "nh3              = Material('NH3', 33.5, 1.000, 1.00e15)\n",
    "nh2              = Material('NH2', 33.5, 1.000, 1.00e15)\n",
    "cit              = Material('CIT', 33.5, 1.500, 1.153e15)\n",
    "\n",
    "sio2_quartz     = Material('SiO2_Quartz', 4.27,  1.5459, 3.13e15)\n",
    "sio2_amorphious = Material('SiO2_Amorphious', 3.75,  1.4599, 3.20e15)\n",
    "ti02_rutile     = Material('TiO2_Rutile', 160,  2.6479, 1.24e15)\n",
    "ti02_anatase    = Material('TiO2_Anatase', 160,  2.5287, 1.50e15)\n",
    "cdse            = Material('CdSe', 20,  2.5516, 1.42e15)\n",
    "\n",
    "\n",
    "semiconductors = [ sio2_quartz, sio2_amorphious, ti02_rutile, ti02_anatase, cdse ]\n",
    "metals = [ gold, silver, copper, nickel, iron,  alumina]\n",
    "organics = [ peg, ps, cit, cooh, coo, nh3, nh2 ]\n",
    "\n",
    "\n",
    "for material in organics:\n",
    "    handle = open(material.name + '.dat', 'w')\n",
    "    handle.write(\"#{:<6}{:<10}{:<14}{:<10}\\n\".format(\"Name\", \"kT\", \"Joules\", \"kJ/mol\"))\n",
    "    for aminoAcid in aminoAcidData.index.values:\n",
    "        hamakerConstant = HamakerInsulator(material, aminoAcid)\n",
    "        handle.write(\"{:<7}{:<10.3f}{:<14.3E}{:<10.3f}\\n\".format(aminoAcid, hamakerConstant / kT, hamakerConstant, hamakerConstant / kT / 0.4))\n",
    "    handle.close()\n",
    "\n",
    "for material in metals:\n",
    "    handle = open(material.name + '.dat', 'w')\n",
    "    handle.write(\"#{:<6}{:<10}{:<14}{:<10}\\n\".format(\"Name\", \"kT\", \"Joules\", \"kJ/mol\"))\n",
    "    for aminoAcid in aminoAcidData.index.values:\n",
    "        hamakerConstant = HamakerMetal(material, aminoAcid)\n",
    "        handle.write(\"{:<7}{:<10.3f}{:<14.3E}{:<10.3f}\\n\".format(aminoAcid, hamakerConstant / kT, hamakerConstant, hamakerConstant / kT / 0.4))\n",
    "    handle.close()\n",
    "\n",
    "for material in semiconductors:\n",
    "    handle = open(material.name + '.dat', 'w')\n",
    "    handle.write(\"#{:<6}{:<10}{:<14}{:<10}\\n\".format(\"Name\", \"kT\", \"Joules\", \"kJ/mol\"))\n",
    "    for aminoAcid in aminoAcidData.index.values:\n",
    "        hamakerConstant = HamakerInsulator(material, aminoAcid)\n",
    "        handle.write(\"{:<7}{:<10.3f}{:<14.3E}{:<10.3f}\\n\".format(aminoAcid, hamakerConstant / kT, hamakerConstant, hamakerConstant / kT / 0.4))\n",
    "    handle.close()"
   ]
  },
  {
   "cell_type": "code",
   "execution_count": null,
   "metadata": {},
   "outputs": [],
   "source": []
  }
 ],
 "metadata": {
  "kernelspec": {
   "display_name": "Python 3 (ipykernel)",
   "language": "python",
   "name": "python3"
  },
  "language_info": {
   "codemirror_mode": {
    "name": "ipython",
    "version": 3
   },
   "file_extension": ".py",
   "mimetype": "text/x-python",
   "name": "python",
   "nbconvert_exporter": "python",
   "pygments_lexer": "ipython3",
   "version": "3.9.15"
  }
 },
 "nbformat": 4,
 "nbformat_minor": 4
}
