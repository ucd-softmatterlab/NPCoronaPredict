{
 "cells": [
  {
   "cell_type": "code",
   "execution_count": 1,
   "id": "15786e4d",
   "metadata": {
    "lines_to_next_cell": 2
   },
   "outputs": [
    {
     "data": {
      "application/vnd.jupyter.widget-view+json": {
       "model_id": "77276f43a5094cc79d3f29bdd6dfadd0",
       "version_major": 2,
       "version_minor": 0
      },
      "text/plain": []
     },
     "metadata": {},
     "output_type": "display_data"
    }
   ],
   "source": [
    "import os\n",
    "import re\n",
    "import numpy as np\n",
    "import matplotlib.pyplot as plt\n",
    "from matplotlib import rc,rcParams\n",
    "import matplotlib.font_manager as mfm\n",
    "import matplotlib.patches as patches\n",
    "import scipy as sp\n",
    "import seaborn as sns\n",
    "import nglview as nv\n",
    "import MDAnalysis as mda\n",
    "from MDAnalysis import Universe, Merge, transformations\n",
    "import warnings\n",
    "import pandas as pd\n",
    "warnings.filterwarnings(\"ignore\")"
   ]
  },
  {
   "cell_type": "code",
   "execution_count": 2,
   "id": "72000dba",
   "metadata": {},
   "outputs": [],
   "source": [
    "plt.style.use('seaborn-white')\n",
    "sns.set(style=\"white\", context=\"paper\") #, palette=\"tab10\")\n",
    "sns.color_palette(\"Set1\", n_colors=8, desat=.5)\n",
    "rc('font', weight='bold')\n",
    "sns.set_style(\"ticks\", {\"xtick.major.size\": 10, \"ytick.major.size\": 12})"
   ]
  },
  {
   "cell_type": "code",
   "execution_count": null,
   "id": "ee61239f",
   "metadata": {},
   "outputs": [],
   "source": []
  },
  {
   "cell_type": "code",
   "execution_count": 13,
   "id": "5b365f51",
   "metadata": {},
   "outputs": [],
   "source": [
    "wd=os. getcwd() \n",
    "resFolder = wd+\"/uam/\"\n",
    "pdbFolder = wd+\"/pdb/\"\n",
    "pdbCGfolder = wd+\"/pdbCG/\"\n",
    "npFolder  = wd+\"/np/\"\n",
    "pngFolder  = wd+\"/png/\"\n",
    "\n",
    "os.makedirs(pdbCGfolder,exist_ok=True)\n",
    "os.makedirs(pngFolder,exist_ok=True)"
   ]
  },
  {
   "cell_type": "code",
   "execution_count": 4,
   "id": "8d922868",
   "metadata": {},
   "outputs": [],
   "source": [
    "#Details of the target UAM, PDB and NP files go here\n",
    "\n",
    "pdbIn=pdbFolder+\"3v03.pdb\"\n",
    "npIn=npFolder+\"np1R_27_ZP_-31.np\"\n",
    "uamIn=resFolder+\"3v03_27_-31.uam\""
   ]
  },
  {
   "cell_type": "code",
   "execution_count": 5,
   "id": "6214fbaa",
   "metadata": {},
   "outputs": [
    {
     "name": "stdout",
     "output_type": "stream",
     "text": [
      "[[27.0, 'Metal']]\n",
      "[['Metal270' 'Metal' '1']]\n"
     ]
    }
   ],
   "source": [
    "protein=pdbIn.rsplit('/')[-1].rsplit(\".\")[0]\n",
    "basename=npIn.rsplit('/')[-1].strip(\".np\")\n",
    "#nanopart=(basename.rsplit('_', 3)[0]).rsplit('_', 3)[0]\n",
    "\n",
    "#core=re.sub('[^a-zA-Z]+', '', nanopart)\n",
    "#radii=float(((basename.rsplit('_', 6)[1]).rsplit('_', 1)[0]).rsplit('-', 1)[1])\n",
    "#zeta=float(((basename.rsplit('_', 6)[2]).rsplit('_', 1)[0]).rsplit('-', 1)[1])\n",
    "\n",
    "\n",
    "def readNPFile(npIn, coreDefault=\"Ag\", radiusDefault = 26.35,  unitScale=1.0):\n",
    "    NPcoordList = []\n",
    "    NPresNameArray = []\n",
    "    NPRad = []\n",
    "    NPBeadTypes = []\n",
    "    PlotNPBeads = []\n",
    "    npFile = open(npIn, \"r\")\n",
    "    i=1\n",
    "    foundCoreRadius = -1\n",
    "    foundCoreMaterial = coreDefault\n",
    "    beadReps = []\n",
    "    for line in npFile:\n",
    "        if line[0]==\"#\":\n",
    "            continue\n",
    "        #print(line)\n",
    "        lineTerms = line.strip().split(\",\")\n",
    "        legacyFile = False\n",
    "        if len(lineTerms) > 8 and lineTerms[0]!="TYPE":\n",
    "            legacyFile = True\n",
    "        if legacyFile == True:\n",
    "            #print(line)\n",
    "            #print(lineTerms)\n",
    "            npX, npY, npZ, npR, zeta, _, _, _, ss, _, _, _ = lineTerms\n",
    "            npR = float(npR)\n",
    "            #print(\"hamaker file: \", ss)\n",
    "            solid=(((str(ss)).rsplit( \"/\" )[-1]).rsplit( \".\" ))[0]\n",
    "            NPresNameArray.append([solid+str(int(npR*10)), solid, int(i)])\n",
    "            NPcoordList.append([float(round(float(npX),3)*unitScale), float(round(float(npY),3)*unitScale), float(round(float(npZ),3)*unitScale)])\n",
    "            NPRad.append([int(i), solid, float(npR)])\n",
    "            if(npR > foundCoreRadius):\n",
    "                foundCoreRadius = npR\n",
    "                foundCoreMaterial = solid\n",
    "            beadRep = solid+\":\"+str(npR)\n",
    "            if beadRep not in beadReps:\n",
    "                beadReps.append(beadRep)\n",
    "                NPBeadTypes.append([float(npR), solid])\n",
    "            PlotNPBeads.append(  [float(round(float(npX),3)*unitScale), float(round(float(npY),3)*unitScale), float(round(float(npZ),3)*unitScale) , solid , float(npR) ]   )\n",
    "            i+=1\n",
    "        else:\n",
    "            if lineTerms[0]==\"TYPE\":\n",
    "                npR = lineTerms[1]\n",
    "                ss = lineTerms[6]\n",
    "                #print(ss)\n",
    "                solid=(((str(ss)).rsplit( \"/\" )[-1]).rsplit( \".\" ))[0]\n",
    "                NPBeadTypes.append( [ float(npR), solid])\n",
    "                #print(NPBeadTypes)\n",
    "                beadRep = solid+\":\"+str(npR)\n",
    "                if beadRep not in beadReps:\n",
    "                    beadReps.append(beadRep) \n",
    "            elif lineTerms[0]==\"BEAD\":\n",
    "                beadType = int( lineTerms[1])\n",
    "                try:\n",
    "                    beadParams = NPBeadTypes[beadType]\n",
    "                except:\n",
    "                    beadParams = [5,\"err\"]\n",
    "                    print(\"Bead type not found\")\n",
    "                #print(line)\n",
    "                solid = beadParams[1]\n",
    "                npR = beadParams[0]\n",
    "                npX = float(lineTerms[2])\n",
    "                npY = float(lineTerms[3])\n",
    "                npZ = float(lineTerms[4])                \n",
    "                NPresNameArray.append([solid+str(int(npR*10)), solid, int(i)])\n",
    "                NPcoordList.append([float(round(npX,3)*unitScale), float(round(npY,3)*unitScale), float(round(npZ,3)*unitScale)])\n",
    "                NPRad.append([int(i), solid, float(npR)])\n",
    "                if(npR > foundCoreRadius):\n",
    "                    foundCoreRadius = npR\n",
    "                    foundCoreMaterial = solid\n",
    "                i+=1\n",
    "                PlotNPBeads.append(  [float(round(float(npX),3)*unitScale), float(round(float(npY),3)*unitScale), float(round(float(npZ),3)*unitScale) , solid , float(npR) ]   )\n",
    "    npFile.close()\n",
    "    if len(NPcoordList) == 0:\n",
    "        print(\"No NP found in file, adding the default\")\n",
    "        NPcoordList.append( [0.0,0.0,0.0])\n",
    "        NPresNameArray.append([coreDefault+str(radiusDefault),coreDefault, 1])\n",
    "        NPRad.append([1,coreDefault, radiusDefault])\n",
    "        foundCoreMaterial = coreDefault\n",
    "        foundCoreRadius = radiusDefault\n",
    "    return NPcoordList, NPresNameArray, NPRad, foundCoreMaterial, foundCoreRadius, NPBeadTypes, PlotNPBeads\n",
    "'''       \n",
    "rawNP         = np.genfromtxt(npIn,  delimiter=',' , skip_header=1, dtype=None)\n",
    "NPcoordList=[]\n",
    "NPresNameArray=[]\n",
    "NPRad=[]\n",
    "npInnerRadius = -1\n",
    "if rawNP.size > 1:\n",
    "    i=1\n",
    "    for line in rawNP:\n",
    "        npX, npY, npZ, npR, _, _, _, _, ss, _, _, _ = line\n",
    "        solid=(((str(ss)).rsplit( \"/\" )[2]).rsplit( \".\" ))[0]\n",
    "        NPresNameArray.append([solid, solid, int(i)])\n",
    "        NPcoordList.append([float(round(npX,3)*10), float(round(npY,3)*10), float(round(npZ,3)*10)])\n",
    "        NPRad.append([int(i), solid, float(npR)])\n",
    "        npInnerRadius = max(npR,npInnerRadius)\n",
    "        i=i+1\n",
    "if rawNP.size ==1:\n",
    "    NPcoordList.append([0.0, 0.0, 0.0])\n",
    "    NPresNameArray.append([core,core, 1])\n",
    "    NPRad.append([1,core, radii])\n",
    "'''    \n",
    "NPcoordList, NPresNameArray, NPRad ,core,radii, NPBeadTypes, PlotNPBeads= readNPFile(npIn, \"Default\", 10, unitScale=10.0)\n",
    "    \n",
    "NPcoord=np.array(NPcoordList)\n",
    "NPres=np.array(NPresNameArray)\n",
    "NPRs=np.array(NPRad)\n",
    "#print(NPcoord)\n",
    "#print(NPRad)\n",
    "#print(radii)\n",
    "print(NPBeadTypes)\n",
    "#print(PlotNPBeads)\n",
    "print(NPres)"
   ]
  },
  {
   "cell_type": "markdown",
   "id": "3dcbc713",
   "metadata": {},
   "source": [
    "# Read in UAM, plot heatmap and find min conformation"
   ]
  },
  {
   "cell_type": "code",
   "execution_count": 18,
   "id": "afe5b91c",
   "metadata": {},
   "outputs": [
    {
     "name": "stdout",
     "output_type": "stream",
     "text": [
      "Minima at: phi= 267.5 theta =  102.5\n"
     ]
    },
    {
     "data": {
      "text/plain": [
       "Text(0, 0.5, '$\\\\theta$°')"
      ]
     },
     "execution_count": 18,
     "metadata": {},
     "output_type": "execute_result"
    },
    {
     "data": {
      "image/png": "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",
      "text/plain": [
       "<Figure size 640x480 with 2 Axes>"
      ]
     },
     "metadata": {},
     "output_type": "display_data"
    }
   ],
   "source": [
    "rawData         = np.genfromtxt(uamIn)\n",
    "phiData         = rawData[:,0]\n",
    "thetaData       = rawData[:,1]\n",
    "energy          = rawData[:,2]\n",
    "sdData          = rawData[:,3]\n",
    "ssdData         = rawData[:,4]\n",
    "sinTheta        = np.sin(thetaData * np.pi / 180.0)\n",
    "boltzmanAverage = np.sum(energy * sinTheta * np.exp(-1.0 *  energy)) / np.sum(sinTheta * np.exp(-1.0 * energy))\n",
    "simpleAverage   = np.mean(sinTheta * energy)\n",
    "index           = np.argmin(energy)\n",
    "delta           = phiData[1] - phiData[0]\n",
    "rows            = int(180. / delta)\n",
    "cols            = int(360. / delta)\n",
    "image           = np.zeros((rows, cols))\n",
    "\n",
    "foundCCD = False\n",
    "comComData = ssdData #This will need NP radius and the zmin dist added to it to re-approximate the CCD\n",
    "if len(rawData[0] )  > 10 :\n",
    "    comComData = rawData[:,10]\n",
    "    foundCCD = True\n",
    "\n",
    "\n",
    "\n",
    "#Select first lowest conformation\n",
    "conf_id = 0\n",
    "conf_phi = phiData[index]\n",
    "conf_theta = thetaData[index]\n",
    "conf_ssd = ssdData[index]\n",
    "conf_ene = energy[index]\n",
    "conf_ccd = comComData[index]\n",
    "\n",
    "print(\"Minima at: phi=\", conf_phi+2.5 ,  \"theta = \", conf_theta+2.5)\n",
    "\n",
    "#for phi, theta , energy , sd ,ssd, mfpt ,energy_kj, prot_surf_com_dist in rawData:\n",
    "for line in rawData:\n",
    "    phi = line[0]\n",
    "    theta = line[1]\n",
    "    energy = line[2]\n",
    "    row             = int(theta / delta)\n",
    "    col             = int(phi / delta)\n",
    "    image[row][col] = energy\n",
    "\n",
    "lon = np.linspace(0, 360, cols)\n",
    "lat = np.linspace(0, 180, rows)\n",
    "Lon, Lat = np.meshgrid(lon,lat)\n",
    "image = sp.ndimage.filters.gaussian_filter(image, sigma = [1.0, 1.0], mode = ['constant', 'wrap'])\n",
    "\n",
    "# Plot the data\n",
    "font_path = \"/usr/share/fonts/truetype/freefont/FreeSerif.ttf\"\n",
    "fontsize  = 16\n",
    "clabelpad = 20\n",
    "\n",
    "font      = mfm.FontProperties(fname = font_path, size = fontsize)\n",
    "xlabel    = r\"$\\phi$\" + u\"\\u00B0\"\n",
    "ylabel    = r\"$\\theta$\" + u\"\\u00B0\"\n",
    "clabel    = r\"k${_B}$T\";\n",
    "\n",
    "fig = plt.figure()\n",
    "ax = fig.add_subplot(111)\n",
    "im = ax.pcolormesh(Lon, Lat, image, cmap = plt.cm.YlOrRd_r)  #plt.cm.binary_r )\n",
    "plt.contour(Lon, Lat, image, 2, colors='k')\n",
    "#plt.scatter(conf_phi+2.5, conf_theta+2.5 ,marker=\"X\",color=\"#0000ff\",s=120)\n",
    "circleWidth = 15\n",
    "ax.add_patch(  patches.Ellipse((conf_phi+2.5, conf_theta+2.5), circleWidth*2,circleWidth, color='green', fill=False, lw=4) )\n",
    "cb = fig.colorbar(im, ax = ax, shrink = 0.5)\n",
    "cb.set_label(clabel, rotation = 270, labelpad = clabelpad, fontproperties = font)\n",
    "ax.set_xlabel(xlabel, fontproperties = font)\n",
    "ax.set_ylabel(ylabel, fontproperties = font)\n"
   ]
  },
  {
   "cell_type": "code",
   "execution_count": 7,
   "id": "42629cbe",
   "metadata": {},
   "outputs": [],
   "source": [
    "res_png = 900\n",
    "figname_map_png=pngFolder+protein+\"_\"+basename +  \"_heatmap.png\"\n",
    "figname_map_png\n",
    "fig.savefig(figname_map_png, format='png', dpi=res_png,  transparent=True)"
   ]
  },
  {
   "cell_type": "markdown",
   "id": "f8092b0c",
   "metadata": {},
   "source": [
    "# Read in PDB for protein and transform accordinly to orientation data"
   ]
  },
  {
   "cell_type": "code",
   "execution_count": null,
   "id": "b19fb1a6",
   "metadata": {},
   "outputs": [],
   "source": []
  },
  {
   "cell_type": "code",
   "execution_count": null,
   "id": "92bcfbd1",
   "metadata": {},
   "outputs": [],
   "source": []
  },
  {
   "cell_type": "code",
   "execution_count": null,
   "id": "a10f8f0e",
   "metadata": {},
   "outputs": [],
   "source": []
  },
  {
   "cell_type": "code",
   "execution_count": 8,
   "id": "164d63ec",
   "metadata": {},
   "outputs": [],
   "source": [
    "'''\n",
    "\n",
    "#  translation to origin\n",
    "\n",
    "print(u_prot.atoms.positions[0])\n",
    "#translate_to_origin = transformations.center_in_box(u_prot.atoms,center='mass', point=[0.0,0.0,0.0])\n",
    "\n",
    "\n",
    "# UA rotation\n",
    "\n",
    "rawCoords = u_prot.atoms.positions\n",
    "\n",
    "rawCoords[:,0] = rawCoords[:,0] - np.sum(rawCoords[:,0])/len(rawCoords[:,0])\n",
    "rawCoords[:,1] = rawCoords[:,1] - np.sum(rawCoords[:,1])/len(rawCoords[:,0])\n",
    "rawCoords[:,2] = rawCoords[:,2] - np.sum(rawCoords[:,2])/len(rawCoords[:,0])\n",
    "\n",
    "print(rawCoords[0])\n",
    "\n",
    "\n",
    "\n",
    "#rotate\n",
    "\n",
    "print(minPhi,minTheta)\n",
    "rotCoords =  rotatePDB(rawCoords ,rot_phi, rot_theta)\n",
    "print(rotCoords[0])\n",
    "\n",
    "rotCoords[:,2] = rotCoords[:,2] - np.amin(rotCoords[:,2]) + (radii + conf_ssd + 0.5)*10\n",
    "print(rotCoords[0])\n",
    "u_prot.atoms.positions=rotCoords\n",
    "print(u_prot.atoms.positions[0])\n",
    "print( np.mean( rotCoords[:,0]))\n",
    "print( np.mean( rotCoords[:,1]))\n",
    "print( np.mean( rotCoords[:,2]))\n",
    "print( np.amin( rotCoords[:,2]))\n",
    "#\n",
    "#pHalf=(u_prot.atoms.center_of_mass()[2]-u_prot.atoms.positions.T[2].min())*0.1 # in nm\n",
    "\n",
    "#npR+ssd in z dir in A plus an extra offset of 0.5 nm to account for the typical bead radius\n",
    "#translate_by_ssd = transformations.center_in_box(u_prot.atoms,center='mass', point=[0.0,0.0,(pHalf+radii+conf_ssd+0.5)*10])\n",
    "'''\n",
    "#  Ian's code for rotation\n",
    "def rotatePDB(coords,phi,theta):\n",
    "    rxx = np.cos(theta)*np.cos(phi)\n",
    "    rxy = -1 * np.cos(theta)*np.sin(phi)\n",
    "    rxz = np.sin(theta)\n",
    "    ryx = np.sin(phi)\n",
    "    ryy = np.cos(phi)\n",
    "    ryz = 0\n",
    "    rzx = -1*np.sin(theta)*np.cos(phi)\n",
    "    rzy = np.sin(theta)*np.sin(phi)\n",
    "    rzz = np.cos(theta)\n",
    "    finalCoords = np.zeros_like(coords)\n",
    "    \n",
    "    finalCoords[:,0] = coords[:,0] * rxx + coords[:,1] * rxy + coords[:,2]*rxz \n",
    "    finalCoords[:,1] = coords[:,0] * ryx + coords[:,1] * ryy + coords[:,2]*ryz \n",
    "    finalCoords[:,2] = coords[:,0] * rzx + coords[:,1] * rzy + coords[:,2]*rzz \n",
    "    return finalCoords\n",
    "\n",
    "def tUACOM():\n",
    "    def wrapped(ts):\n",
    "        ts.positions += np.array(  [ -np.mean(ts.positions[:,0]) ,- np.mean(ts.positions[:,1]), -np.mean(ts.positions[:,2])  ]  )\n",
    "        return ts\n",
    "    return wrapped\n",
    "        \n",
    "def tUARotate(phi,theta):\n",
    "    def wrapped(ts):\n",
    "        ts.positions = rotatePDB(ts.positions,phi,theta)\n",
    "        return ts\n",
    "    return wrapped\n",
    "\n",
    "def tUAZShift(dz):\n",
    "    def wrapped(ts):\n",
    "        ts.positions += np.array( [0.0,0.0,dz - np.amin(ts.positions[:,2])])\n",
    "        return ts\n",
    "    return wrapped\n",
    "\n",
    "def tUAZShiftNoMinZ(dz):\n",
    "    def wrapped(ts):\n",
    "        ts.positions += np.array( [0.0,0.0,dz ])\n",
    "        return ts\n",
    "    return wrapped\n",
    "\n",
    "minTheta = conf_theta  + 2.5\n",
    "minPhi = conf_phi + 2.5\n",
    "rot_phi   = -1.0 * minPhi  * (np.pi / 180.0)\n",
    "rot_theta = (180.0 - minTheta) * (np.pi / 180.0)\n",
    "\n",
    "u_prot = Universe(pdbIn)\n",
    "translateToCOM = tUACOM()\n",
    "applyRotation =  tUARotate( rot_phi, rot_theta)\n",
    "\n",
    "if foundCCD == False:\n",
    "    translateToSurface = tUAZShift( 10*(radii+conf_ssd+0.5) )\n",
    "else:\n",
    "    translateToSurface = tUAZShiftNoMinZ( 10*(conf_ccd) )\n",
    "#translateToSurface = tUAZShift( 10*(radii+conf_ssd+0.5) )\n",
    "u_prot.trajectory.add_transformations(*[translateToCOM,applyRotation,translateToSurface])"
   ]
  },
  {
   "cell_type": "code",
   "execution_count": 9,
   "id": "d9676c22",
   "metadata": {
    "scrolled": true
   },
   "outputs": [
    {
     "data": {
      "application/vnd.jupyter.widget-view+json": {
       "model_id": "f777389f2d0c4728ab26aa8b6ae55fa4",
       "version_major": 2,
       "version_minor": 0
      },
      "text/plain": [
       "NGLWidget()"
      ]
     },
     "metadata": {},
     "output_type": "display_data"
    }
   ],
   "source": [
    "viewProt=nv.show_mdanalysis(u_prot)\n",
    "viewProt._remote_call('setSize', target='Widget', args=['600px','600px'])\n",
    "viewProt.add_representation(repr_type='cartoon', selection='protein', color='residueindex')\n",
    "viewProt"
   ]
  },
  {
   "cell_type": "markdown",
   "id": "32660bd0",
   "metadata": {},
   "source": [
    "# Combine with NP coordinate"
   ]
  },
  {
   "cell_type": "code",
   "execution_count": 10,
   "id": "e6f63deb",
   "metadata": {},
   "outputs": [],
   "source": [
    "\n",
    "hamakerToElementDataFile = open(\"NPbeadtypedefinitions.csv\",\"r\")\n",
    "elemDic ={}\n",
    "typeDic = {}\n",
    "beadDicRGB = {}\n",
    "beadDicHex = {}\n",
    "materialPropertiesDict ={}\n",
    "\n",
    "def rgbToHex(rgb):\n",
    "    return int(  \"0x\"+('{:02X}' * 3).format(int(round(rgb[0]*255)), int(round(rgb[1]*255)), int(round(rgb[2]*255))),16)\n",
    "\n",
    "#expected format: Hamaker file, short element-like symbol, type, R (0-1), G (0-1), B(0-1)\n",
    "for line in  hamakerToElementDataFile:\n",
    "    if line[0] == \"#\":\n",
    "        continue\n",
    "    lineTerms = line.strip().split(\",\")\n",
    "    \n",
    "    elemDic[lineTerms[0]] = lineTerms[1]\n",
    "    typeDic[lineTerms[0]] = lineTerms[2]\n",
    "    rc =  np.clip ( float(lineTerms[3]),0,1)\n",
    "    gc = np.clip( float(lineTerms[4]),0,1)\n",
    "    bc = np.clip( float(lineTerms[5]),0,1)\n",
    "    beadDicRGB[lineTerms[0]] = [ rc,gc,bc ]\n",
    "    beadDicHex[lineTerms[0]] = rgbToHex( [ rc,gc,bc ])\n",
    "    materialPropertiesDict[ lineTerms[0] ] = [ lineTerms[1], lineTerms[2] , [rc,gc,bc] , rgbToHex([rc,gc,bc])]\n",
    "    \n",
    "\n",
    "    "
   ]
  },
  {
   "cell_type": "code",
   "execution_count": null,
   "id": "ac2b3a68",
   "metadata": {},
   "outputs": [],
   "source": [
    "\n"
   ]
  },
  {
   "cell_type": "code",
   "execution_count": 14,
   "id": "a584b07d",
   "metadata": {},
   "outputs": [],
   "source": [
    "nameLst=[]\n",
    "resLst=[]\n",
    "typeLst=[]\n",
    "elemLst=[]\n",
    "coorArr=[]\n",
    "for i, line in enumerate(NPres):\n",
    "    npHamakerType = line[1]\n",
    "    if npHamakerType not in typeDic:\n",
    "        print(\"Warning: \", line[1], \" not a known type of NP. Using auto-generated colours and label, please update NPbeadtypedefinitions.csv\") \n",
    "        typeName = npHamakerType\n",
    "        typeDic[typeName] = (typeName+\"XXX\")[:3]\n",
    "        elemDic[typeName] = (typeName+\"XXX\")[:2]\n",
    "        beadDicRGB[typeName] = [   1.0, 0, 1.0]\n",
    "        beadDicHex = rgbToHex( [1.0,0,1.0])\n",
    "    typeLst.append(typeDic[npHamakerType])\n",
    "    elemLst.append(elemDic[npHamakerType])\n",
    "    nameLst.append(line[0] )\n",
    "    resLst.append(npHamakerType)\n",
    "    coorArr.append(NPcoord[i])\n",
    "    \n",
    "#print(nameLst)\n",
    "#print(typeLst)\n",
    "n_residues = len(NPres)\n",
    "n_atoms = len(NPres)\n",
    "resindices = np.repeat(range(n_residues), 1)\n",
    "assert len(resindices) == n_atoms\n",
    "segindices = [0] * n_residues\n",
    "u_nano = mda.Universe.empty(n_atoms,\n",
    "                         n_residues=n_residues,\n",
    "                         atom_resindex=resindices,\n",
    "                         residue_segindex=segindices,\n",
    "                         trajectory=True)\n",
    "u_nano.add_TopologyAttr('name', nameLst)\n",
    "u_nano.add_TopologyAttr('type', typeLst)\n",
    "u_nano.add_TopologyAttr('elements', elemLst)\n",
    "u_nano.add_TopologyAttr('resname', resLst)\n",
    "u_nano.add_TopologyAttr('resid', list(range(1, n_residues+1)))\n",
    "u_nano.add_TopologyAttr('segid', [\"NP\"])\n",
    "u_nano.atoms.positions = coorArr\n",
    "\n",
    "pdb_combo=pdbCGfolder+core+\"_\"+str(protein)+'_CG.pdb'\n",
    "combo = Merge(u_prot.atoms, u_nano.atoms)\n",
    "combo.atoms.write(pdb_combo)"
   ]
  },
  {
   "cell_type": "markdown",
   "id": "b6454b87",
   "metadata": {},
   "source": [
    "# Visualize NP-protein complex"
   ]
  },
  {
   "cell_type": "code",
   "execution_count": 30,
   "id": "3d07f589",
   "metadata": {
    "scrolled": false
   },
   "outputs": [
    {
     "name": "stdout",
     "output_type": "stream",
     "text": [
      "Adding 1 beads of radius 27.0 material:  Metal  colour: 14408667\n",
      "adding sphere for  [0.0, 0.0, 0.0, 'Metal', 27.0]\n"
     ]
    },
    {
     "data": {
      "application/vnd.jupyter.widget-view+json": {
       "model_id": "ccbeb7e12ffb4b9bab62342b6ee1ae4e",
       "version_major": 2,
       "version_minor": 0
      },
      "text/plain": [
       "NGLWidget()"
      ]
     },
     "metadata": {},
     "output_type": "display_data"
    }
   ],
   "source": [
    "#generate dummy spheres for testing\n",
    "thetaRange = np.linspace( 0, np.pi, 3)\n",
    "phiRange = np.linspace(0, 2*np.pi,5)\n",
    "dummyBeadCenters = []\n",
    "for theta in thetaRange:\n",
    "    for phi in phiRange:\n",
    "        dummyBeadCenters.append( [np.cos(phi)*np.sin(theta),np.sin(phi)*np.sin(theta),np.cos(theta)] )\n",
    "dummyBeads = np.array(dummyBeadCenters)\n",
    "numNPBeads = len(PlotNPBeads)\n",
    "\n",
    "view=nv.show_mdanalysis(combo)\n",
    "view._remote_call('setSize', target='Widget', args=['400px','600px'])\n",
    "view.clear_representations()\n",
    "view.add_representation(repr_type='cartoon', selection='protein', color='residueindex')\n",
    "view.add_representation(repr_type='surface', surfaceType= 'av',  opaqueBack=False, selection='protein', opacity=0.05, color='indigo')\n",
    "\n",
    "\n",
    "beadRadiusScale = 1\n",
    "for beadType in NPBeadTypes:\n",
    "    beadRadius = beadType[0]\n",
    "    beadMaterial = beadType[1]\n",
    "    equivName = beadMaterial+str(int(beadRadius*10))\n",
    "    #beadTypeIndices= np.nonzero(np.logical_and(  NPRs[:,1]==beadMaterial,  np.abs( NPRs[:,2].astype(float)   - beadRadius) < 0.05) )[0]\n",
    "    beadTypeIndices = combo.select_atoms(\"name \"+equivName ).ix\n",
    "    #print(beadTypeIndices)\n",
    "    if beadMaterial in materialPropertiesDict:\n",
    "        beadColourHex = materialPropertiesDict[beadMaterial][3]\n",
    "        beadColourRGB = materialPropertiesDict[beadMaterial][2]\n",
    "    else:\n",
    "        #beadColourHex = \"0x000000\"\n",
    "        beadColourRGB = [1,0,1]\n",
    "        beadColourHex = rgbToHex(beadColourRGB )\n",
    "        print(\"Warning: No colour set for \", beadMaterial)\n",
    "    if len(beadTypeIndices) < 1:\n",
    "        continue\n",
    "    print(\"Adding\", len(beadTypeIndices) , \"beads of radius\", beadRadius, \"material: \", beadMaterial, \" colour:\", beadColourHex)\n",
    "    minBeadRadius = 1\n",
    "    plotRadius = min(beadRadiusScale*minBeadRadius, beadRadiusScale*beadRadius)\n",
    "    view.add_representation('spacefill',  selection=beadTypeIndices, color=beadColourHex, opacity=1.0,  radius=plotRadius, scale=1, radiusType=\"size\")\n",
    "\n",
    "\n",
    "\n",
    "#for bds in list(beadDicHex.keys()):\n",
    "#    view.add_representation(repr_type='spacefill', selection=bds,  opacity=0.6, color=beadDicHex[bds], radius=(radii*10))\n",
    "central = view.shape\n",
    "#central.add_sphere([ 0.0, 0.0, 0.0 ], [1.0,0.0,0.0], radii* 1,core+\"1x\")\n",
    "\n",
    "outersurfaceRadius = 0\n",
    "#plot larger beads as spheres\n",
    "for npBead in PlotNPBeads:\n",
    "    npBeadLoc = np.array( npBead[0:3] ) *10\n",
    "    npBeadRadius = float(npBead[4])*10\n",
    "    if npBeadRadius < minBeadRadius*beadRadiusScale:\n",
    "        continue\n",
    "    print(\"adding sphere for \", npBead)\n",
    "    beadMaterial = npBead[3]\n",
    "    central.add_sphere( npBeadLoc ,  beadDicRGB[beadMaterial], npBeadRadius,beadMaterial)\n",
    "    outersurface = max(npBeadRadius,outersurfaceRadius)\n",
    "    for dummyBead in dummyBeads:\n",
    "        dbArr = np.array(dummyBead)\n",
    "        #print(dbArr)\n",
    "        dbLoc = (dbArr * npBeadRadius*0.8) +  npBeadLoc \n",
    "        #print(\"Adding dummy bead at: \", dbLoc)\n",
    "        central.add_sphere(dbLoc,  beadDicRGB[beadMaterial], 1,beadMaterial)\n",
    "\n",
    "        \n",
    "#add an axis - just for debugging\n",
    "addAxis = False\n",
    "if addAxis == True:\n",
    "    central.add_cylinder( [0,0,outersurfaceRadius+100] , [600,0,outersurfaceRadius+100 ], [1.0,0.0,0.0], 25 ) #x\n",
    "    central.add_cylinder( [0,0,outersurfaceRadius+100] , [0,600,outersurfaceRadius+100 ], [0.0,1.0,0.0], 25 ) #y\n",
    "    central.add_cylinder( [0,0,outersurfaceRadius+100] , [0,0,600+outersurfaceRadius+100 ], [0.0,0.0,1.0], 25) #z\n",
    "        \n",
    "#central.add_sphere([ 0.0, 0.0, 0.0 ], [0.0,1.0,0.0], radii* 10,core+\"10x\")\n",
    "view.center()\n",
    "view.control.spin([1,0,0], 90*np.pi/180.0)\n",
    "view.control.spin([0,1,0],np.pi)\n",
    "view.control.spin([0,0,1], 90*np.pi/180.0)\n",
    "#view.control.spin([0,1,0], 25*np.pi/180.0)\n",
    "view"
   ]
  },
  {
   "cell_type": "code",
   "execution_count": 31,
   "id": "e190ee63",
   "metadata": {},
   "outputs": [
    {
     "data": {
      "text/plain": [
       "'Metal_3v03_CG.png'"
      ]
     },
     "execution_count": 31,
     "metadata": {},
     "output_type": "execute_result"
    }
   ],
   "source": [
    "view.parameters = dict(theme='light')\n",
    "filename=core+\"_\"+str(protein)+'_CG.png'\n",
    "view.download_image(filename=filename , factor=10, transparent=True)\n",
    "filename"
   ]
  },
  {
   "cell_type": "code",
   "execution_count": null,
   "id": "e68eda00",
   "metadata": {},
   "outputs": [],
   "source": []
  },
  {
   "cell_type": "code",
   "execution_count": null,
   "id": "976c58b0",
   "metadata": {},
   "outputs": [],
   "source": []
  },
  {
   "cell_type": "code",
   "execution_count": null,
   "id": "72c8090a",
   "metadata": {},
   "outputs": [],
   "source": []
  },
  {
   "cell_type": "code",
   "execution_count": null,
   "id": "21eecd2c",
   "metadata": {},
   "outputs": [],
   "source": []
  }
 ],
 "metadata": {
  "jupytext": {
   "cell_metadata_filter": "-all",
   "executable": " /usr/bin/python",
   "main_language": "python",
   "notebook_metadata_filter": "-all"
  },
  "kernelspec": {
   "display_name": "Python 3 (ipykernel)",
   "language": "python",
   "name": "python3"
  },
  "language_info": {
   "codemirror_mode": {
    "name": "ipython",
    "version": 3
   },
   "file_extension": ".py",
   "mimetype": "text/x-python",
   "name": "python",
   "nbconvert_exporter": "python",
   "pygments_lexer": "ipython3",
   "version": "3.10.12"
  }
 },
 "nbformat": 4,
 "nbformat_minor": 5
}
