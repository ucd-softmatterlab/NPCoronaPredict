{
 "cells": [
  {
   "cell_type": "code",
   "execution_count": 1,
   "id": "15786e4d",
   "metadata": {
    "lines_to_next_cell": 2
   },
   "outputs": [
    {
     "data": {
      "application/vnd.jupyter.widget-view+json": {
       "model_id": "fd2d074015834cc38783d0688f3cafc9",
       "version_major": 2,
       "version_minor": 0
      },
      "text/plain": []
     },
     "metadata": {},
     "output_type": "display_data"
    }
   ],
   "source": [
    "import os\n",
    "import re\n",
    "import numpy as np\n",
    "import matplotlib.pyplot as plt\n",
    "from matplotlib import rc,rcParams\n",
    "import matplotlib.font_manager as mfm\n",
    "import matplotlib.patches as patches\n",
    "import scipy as sp\n",
    "import seaborn as sns\n",
    "import nglview as nv\n",
    "import MDAnalysis as mda\n",
    "from MDAnalysis import Universe, Merge, transformations\n",
    "import warnings\n",
    "import pandas as pd\n",
    "warnings.filterwarnings(\"ignore\")"
   ]
  },
  {
   "cell_type": "code",
   "execution_count": 2,
   "id": "72000dba",
   "metadata": {},
   "outputs": [],
   "source": [
    "plt.style.use('seaborn-white')\n",
    "sns.set(style=\"white\", context=\"paper\") #, palette=\"tab10\")\n",
    "sns.color_palette(\"Set1\", n_colors=8, desat=.5)\n",
    "rc('font', weight='bold')\n",
    "sns.set_style(\"ticks\", {\"xtick.major.size\": 10, \"ytick.major.size\": 12})"
   ]
  },
  {
   "cell_type": "code",
   "execution_count": null,
   "id": "ee61239f",
   "metadata": {},
   "outputs": [],
   "source": []
  },
  {
   "cell_type": "code",
   "execution_count": 3,
   "id": "5b365f51",
   "metadata": {},
   "outputs": [],
   "source": [
    "wd=os. getcwd() \n",
    "resFolder = wd+\"/uam/\"\n",
    "pdbFolder = wd+\"/pdb/\"\n",
    "pdbCGfolder = wd+\"/pdbCG/\"\n",
    "npFolder  = wd+\"/np/\"\n",
    "pngFolder  = wd+\"/png/\""
   ]
  },
  {
   "cell_type": "code",
   "execution_count": 4,
   "id": "8d922868",
   "metadata": {},
   "outputs": [],
   "source": [
    "#Details of the target UAM, PDB and NP files go here\n",
    "\n",
    "pdbIn=pdbFolder+\"P02768.pdb\"\n",
    "npIn=npFolder+\"Ag332-1nm.np\"\n",
    "uamIn=resFolder+\"P02768_1_0.uam\""
   ]
  },
  {
   "cell_type": "code",
   "execution_count": 5,
   "id": "6214fbaa",
   "metadata": {},
   "outputs": [
    {
     "name": "stdout",
     "output_type": "stream",
     "text": [
      "[[1.0, 'Ag322-PMFP']]\n",
      "[['Ag322-PMFP10' 'Ag322-PMFP' '1']]\n"
     ]
    }
   ],
   "source": [
    "protein=pdbIn.rsplit('/')[-1].rsplit(\".\")[0]\n",
    "basename=npIn.rsplit('/')[-1].strip(\".np\")\n",
    "#nanopart=(basename.rsplit('_', 3)[0]).rsplit('_', 3)[0]\n",
    "\n",
    "#core=re.sub('[^a-zA-Z]+', '', nanopart)\n",
    "#radii=float(((basename.rsplit('_', 6)[1]).rsplit('_', 1)[0]).rsplit('-', 1)[1])\n",
    "#zeta=float(((basename.rsplit('_', 6)[2]).rsplit('_', 1)[0]).rsplit('-', 1)[1])\n",
    "\n",
    "\n",
    "def readNPFile(npIn, coreDefault=\"Ag\", radiusDefault = 26.35,  unitScale=1.0):\n",
    "    NPcoordList = []\n",
    "    NPresNameArray = []\n",
    "    NPRad = []\n",
    "    NPBeadTypes = []\n",
    "    PlotNPBeads = []\n",
    "    npFile = open(npIn, \"r\")\n",
    "    i=1\n",
    "    foundCoreRadius = -1\n",
    "    foundCoreMaterial = coreDefault\n",
    "    beadReps = []\n",
    "    for line in npFile:\n",
    "        if line[0]==\"#\":\n",
    "            continue\n",
    "        #print(line)\n",
    "        lineTerms = line.strip().split(\",\")\n",
    "        legacyFile = False\n",
    "        if len(lineTerms) == 12:\n",
    "            legacyFile = True\n",
    "        if legacyFile == True:\n",
    "            #print(line)\n",
    "            #print(lineTerms)\n",
    "            npX, npY, npZ, npR, zeta, _, _, _, ss, _, _, _ = lineTerms\n",
    "            npR = float(npR)\n",
    "            #print(\"hamaker file: \", ss)\n",
    "            solid=(((str(ss)).rsplit( \"/\" )[-1]).rsplit( \".\" ))[0]\n",
    "            NPresNameArray.append([solid+str(int(npR*10)), solid, int(i)])\n",
    "            NPcoordList.append([float(round(float(npX),3)*unitScale), float(round(float(npY),3)*unitScale), float(round(float(npZ),3)*unitScale)])\n",
    "            NPRad.append([int(i), solid, float(npR)])\n",
    "            if(npR > foundCoreRadius):\n",
    "                foundCoreRadius = npR\n",
    "                foundCoreMaterial = solid\n",
    "            beadRep = solid+\":\"+str(npR)\n",
    "            if beadRep not in beadReps:\n",
    "                beadReps.append(beadRep)\n",
    "                NPBeadTypes.append([float(npR), solid])\n",
    "            PlotNPBeads.append(  [float(round(float(npX),3)*unitScale), float(round(float(npY),3)*unitScale), float(round(float(npZ),3)*unitScale) , solid , float(npR) ]   )\n",
    "            i+=1\n",
    "        else:\n",
    "            if lineTerms[0]==\"TYPE\":\n",
    "                npR = lineTerms[1]\n",
    "                ss = lineTerms[6]\n",
    "                #print(ss)\n",
    "                solid=(((str(ss)).rsplit( \"/\" )[-1]).rsplit( \".\" ))[0]\n",
    "                NPBeadTypes.append( [ float(npR), solid])\n",
    "                #print(NPBeadTypes)\n",
    "                beadRep = solid+\":\"+str(npR)\n",
    "                if beadRep not in beadReps:\n",
    "                    beadReps.append(beadRep) \n",
    "            elif lineTerms[0]==\"BEAD\":\n",
    "                beadType = int( lineTerms[1])\n",
    "                try:\n",
    "                    beadParams = NPBeadTypes[beadType]\n",
    "                except:\n",
    "                    beadParams = [5,\"err\"]\n",
    "                    print(\"Bead type not found\")\n",
    "                #print(line)\n",
    "                solid = beadParams[1]\n",
    "                npR = beadParams[0]\n",
    "                npX = float(lineTerms[2])\n",
    "                npY = float(lineTerms[3])\n",
    "                npZ = float(lineTerms[4])                \n",
    "                NPresNameArray.append([solid+str(int(npR*10)), solid, int(i)])\n",
    "                NPcoordList.append([float(round(npX,3)*unitScale), float(round(npY,3)*unitScale), float(round(npZ,3)*unitScale)])\n",
    "                NPRad.append([int(i), solid, float(npR)])\n",
    "                if(npR > foundCoreRadius):\n",
    "                    foundCoreRadius = npR\n",
    "                    foundCoreMaterial = solid\n",
    "                i+=1\n",
    "                PlotNPBeads.append(  [float(round(float(npX),3)*unitScale), float(round(float(npY),3)*unitScale), float(round(float(npZ),3)*unitScale) , solid , float(npR) ]   )\n",
    "    npFile.close()\n",
    "    if len(NPcoordList) == 0:\n",
    "        print(\"No NP found in file, adding the default\")\n",
    "        NPcoordList.append( [0.0,0.0,0.0])\n",
    "        NPresNameArray.append([coreDefault+str(radiusDefault),coreDefault, 1])\n",
    "        NPRad.append([1,coreDefault, radiusDefault])\n",
    "        foundCoreMaterial = coreDefault\n",
    "        foundCoreRadius = radiusDefault\n",
    "    return NPcoordList, NPresNameArray, NPRad, foundCoreMaterial, foundCoreRadius, NPBeadTypes, PlotNPBeads\n",
    "'''       \n",
    "rawNP         = np.genfromtxt(npIn,  delimiter=',' , skip_header=1, dtype=None)\n",
    "NPcoordList=[]\n",
    "NPresNameArray=[]\n",
    "NPRad=[]\n",
    "npInnerRadius = -1\n",
    "if rawNP.size > 1:\n",
    "    i=1\n",
    "    for line in rawNP:\n",
    "        npX, npY, npZ, npR, _, _, _, _, ss, _, _, _ = line\n",
    "        solid=(((str(ss)).rsplit( \"/\" )[2]).rsplit( \".\" ))[0]\n",
    "        NPresNameArray.append([solid, solid, int(i)])\n",
    "        NPcoordList.append([float(round(npX,3)*10), float(round(npY,3)*10), float(round(npZ,3)*10)])\n",
    "        NPRad.append([int(i), solid, float(npR)])\n",
    "        npInnerRadius = max(npR,npInnerRadius)\n",
    "        i=i+1\n",
    "if rawNP.size ==1:\n",
    "    NPcoordList.append([0.0, 0.0, 0.0])\n",
    "    NPresNameArray.append([core,core, 1])\n",
    "    NPRad.append([1,core, radii])\n",
    "'''    \n",
    "NPcoordList, NPresNameArray, NPRad ,core,radii, NPBeadTypes, PlotNPBeads= readNPFile(npIn, \"Default\", 10, unitScale=10.0)\n",
    "    \n",
    "NPcoord=np.array(NPcoordList)\n",
    "NPres=np.array(NPresNameArray)\n",
    "NPRs=np.array(NPRad)\n",
    "#print(NPcoord)\n",
    "#print(NPRad)\n",
    "#print(radii)\n",
    "print(NPBeadTypes)\n",
    "#print(PlotNPBeads)\n",
    "print(NPres)"
   ]
  },
  {
   "cell_type": "markdown",
   "id": "3dcbc713",
   "metadata": {},
   "source": [
    "# Read in UAM, plot heatmap and find min conformation"
   ]
  },
  {
   "cell_type": "code",
   "execution_count": 6,
   "id": "afe5b91c",
   "metadata": {},
   "outputs": [
    {
     "data": {
      "text/plain": [
       "Text(0, 0.5, '$\\\\theta$°')"
      ]
     },
     "execution_count": 6,
     "metadata": {},
     "output_type": "execute_result"
    },
    {
     "data": {
      "image/png": "[encoded data removed]",
      "text/plain": [
       "<Figure size 640x480 with 2 Axes>"
      ]
     },
     "metadata": {},
     "output_type": "display_data"
    }
   ],
   "source": [
    "rawData         = np.genfromtxt(uamIn)\n",
    "phiData         = rawData[:,0]\n",
    "thetaData       = rawData[:,1]\n",
    "energy          = rawData[:,2]\n",
    "sdData          = rawData[:,3]\n",
    "ssdData         = rawData[:,4]\n",
    "sinTheta        = np.sin(thetaData * np.pi / 180.0)\n",
    "boltzmanAverage = np.sum(energy * sinTheta * np.exp(-1.0 *  energy)) / np.sum(sinTheta * np.exp(-1.0 * energy))\n",
    "simpleAverage   = np.mean(sinTheta * energy)\n",
    "index           = np.argmin(energy)\n",
    "delta           = phiData[1] - phiData[0]\n",
    "rows            = int(180. / delta)\n",
    "cols            = int(360. / delta)\n",
    "image           = np.zeros((rows, cols))\n",
    "\n",
    "foundCCD = False\n",
    "comComData = ssdData #This will need NP radius and the zmin dist added to it to re-approximate the CCD\n",
    "if len(rawData[0] )  > 10 :\n",
    "    comComData = rawData[:,10]\n",
    "    foundCCD = True\n",
    "\n",
    "\n",
    "\n",
    "#Select first lowest conformation\n",
    "conf_id = 0\n",
    "conf_phi = phiData[index]\n",
    "conf_theta = thetaData[index]\n",
    "conf_ssd = ssdData[index]\n",
    "conf_ene = energy[index]\n",
    "conf_ccd = comComData[index]\n",
    "\n",
    "#print(conf_phi,conf_theta)\n",
    "\n",
    "#for phi, theta , energy , sd ,ssd, mfpt ,energy_kj, prot_surf_com_dist in rawData:\n",
    "for line in rawData:\n",
    "    phi = line[0]\n",
    "    theta = line[1]\n",
    "    energy = line[2]\n",
    "    row             = int(theta / delta)\n",
    "    col             = int(phi / delta)\n",
    "    image[row][col] = energy\n",
    "\n",
    "lon = np.linspace(0, 360, cols)\n",
    "lat = np.linspace(0, 180, rows)\n",
    "Lon, Lat = np.meshgrid(lon,lat)\n",
    "image = sp.ndimage.filters.gaussian_filter(image, sigma = [1.0, 1.0], mode = ['constant', 'wrap'])\n",
    "\n",
    "# Plot the data\n",
    "font_path = \"/usr/share/fonts/truetype/freefont/FreeSerif.ttf\"\n",
    "fontsize  = 16\n",
    "clabelpad = 20\n",
    "\n",
    "font      = mfm.FontProperties(fname = font_path, size = fontsize)\n",
    "xlabel    = r\"$\\phi$\" + u\"\\u00B0\"\n",
    "ylabel    = r\"$\\theta$\" + u\"\\u00B0\"\n",
    "clabel    = r\"k${_B}$T\";\n",
    "\n",
    "fig = plt.figure()\n",
    "ax = fig.add_subplot(111)\n",
    "im = ax.pcolormesh(Lon, Lat, image, cmap = plt.cm.YlOrRd_r)  #plt.cm.binary_r )\n",
    "plt.contour(Lon, Lat, image, 2, colors='k')\n",
    "#plt.scatter(conf_phi+2.5, conf_theta+2.5 ,marker=\"X\",color=\"#0000ff\",s=120)\n",
    "circleWidth = 15\n",
    "ax.add_patch(  patches.Ellipse((conf_phi+2.5, conf_theta+2.5), circleWidth*2,circleWidth, color='green', fill=False, lw=4) )\n",
    "cb = fig.colorbar(im, ax = ax, shrink = 0.5)\n",
    "cb.set_label(clabel, rotation = 270, labelpad = clabelpad, fontproperties = font)\n",
    "ax.set_xlabel(xlabel, fontproperties = font)\n",
    "ax.set_ylabel(ylabel, fontproperties = font)\n"
   ]
  },
  {
   "cell_type": "code",
   "execution_count": 7,
   "id": "42629cbe",
   "metadata": {},
   "outputs": [],
   "source": [
    "res_png = 900\n",
    "figname_map_png=pngFolder+protein+\"_\"+basename +  \"_heatmap.png\"\n",
    "figname_map_png\n",
    "fig.savefig(figname_map_png, format='png', dpi=res_png,  transparent=True)"
   ]
  },
  {
   "cell_type": "markdown",
   "id": "f8092b0c",
   "metadata": {},
   "source": [
    "# Read in PDB for protein and transform accordinly to orientation data"
   ]
  },
  {
   "cell_type": "code",
   "execution_count": null,
   "id": "b19fb1a6",
   "metadata": {},
   "outputs": [],
   "source": []
  },
  {
   "cell_type": "code",
   "execution_count": null,
   "id": "92bcfbd1",
   "metadata": {},
   "outputs": [],
   "source": []
  },
  {
   "cell_type": "code",
   "execution_count": null,
   "id": "a10f8f0e",
   "metadata": {},
   "outputs": [],
   "source": []
  },
  {
   "cell_type": "code",
   "execution_count": 8,
   "id": "164d63ec",
   "metadata": {},
   "outputs": [],
   "source": [
    "'''\n",
    "\n",
    "#  translation to origin\n",
    "\n",
    "print(u_prot.atoms.positions[0])\n",
    "#translate_to_origin = transformations.center_in_box(u_prot.atoms,center='mass', point=[0.0,0.0,0.0])\n",
    "\n",
    "\n",
    "# UA rotation\n",
    "\n",
    "rawCoords = u_prot.atoms.positions\n",
    "\n",
    "rawCoords[:,0] = rawCoords[:,0] - np.sum(rawCoords[:,0])/len(rawCoords[:,0])\n",
    "rawCoords[:,1] = rawCoords[:,1] - np.sum(rawCoords[:,1])/len(rawCoords[:,0])\n",
    "rawCoords[:,2] = rawCoords[:,2] - np.sum(rawCoords[:,2])/len(rawCoords[:,0])\n",
    "\n",
    "print(rawCoords[0])\n",
    "\n",
    "\n",
    "\n",
    "#rotate\n",
    "\n",
    "print(minPhi,minTheta)\n",
    "rotCoords =  rotatePDB(rawCoords ,rot_phi, rot_theta)\n",
    "print(rotCoords[0])\n",
    "\n",
    "rotCoords[:,2] = rotCoords[:,2] - np.amin(rotCoords[:,2]) + (radii + conf_ssd + 0.5)*10\n",
    "print(rotCoords[0])\n",
    "u_prot.atoms.positions=rotCoords\n",
    "print(u_prot.atoms.positions[0])\n",
    "print( np.mean( rotCoords[:,0]))\n",
    "print( np.mean( rotCoords[:,1]))\n",
    "print( np.mean( rotCoords[:,2]))\n",
    "print( np.amin( rotCoords[:,2]))\n",
    "#\n",
    "#pHalf=(u_prot.atoms.center_of_mass()[2]-u_prot.atoms.positions.T[2].min())*0.1 # in nm\n",
    "\n",
    "#npR+ssd in z dir in A plus an extra offset of 0.5 nm to account for the typical bead radius\n",
    "#translate_by_ssd = transformations.center_in_box(u_prot.atoms,center='mass', point=[0.0,0.0,(pHalf+radii+conf_ssd+0.5)*10])\n",
    "'''\n",
    "#  Ian's code for rotation\n",
    "def rotatePDB(coords,phi,theta):\n",
    "    rxx = np.cos(theta)*np.cos(phi)\n",
    "    rxy = -1 * np.cos(theta)*np.sin(phi)\n",
    "    rxz = np.sin(theta)\n",
    "    ryx = np.sin(phi)\n",
    "    ryy = np.cos(phi)\n",
    "    ryz = 0\n",
    "    rzx = -1*np.sin(theta)*np.cos(phi)\n",
    "    rzy = np.sin(theta)*np.sin(phi)\n",
    "    rzz = np.cos(theta)\n",
    "    finalCoords = np.zeros_like(coords)\n",
    "    \n",
    "    finalCoords[:,0] = coords[:,0] * rxx + coords[:,1] * rxy + coords[:,2]*rxz \n",
    "    finalCoords[:,1] = coords[:,0] * ryx + coords[:,1] * ryy + coords[:,2]*ryz \n",
    "    finalCoords[:,2] = coords[:,0] * rzx + coords[:,1] * rzy + coords[:,2]*rzz \n",
    "    return finalCoords\n",
    "\n",
    "def tUACOM():\n",
    "    def wrapped(ts):\n",
    "        ts.positions += np.array(  [ -np.mean(ts.positions[:,0]) ,- np.mean(ts.positions[:,1]), -np.mean(ts.positions[:,2])  ]  )\n",
    "        return ts\n",
    "    return wrapped\n",
    "        \n",
    "def tUARotate(phi,theta):\n",
    "    def wrapped(ts):\n",
    "        ts.positions = rotatePDB(ts.positions,phi,theta)\n",
    "        return ts\n",
    "    return wrapped\n",
    "\n",
    "def tUAZShift(dz):\n",
    "    def wrapped(ts):\n",
    "        ts.positions += np.array( [0.0,0.0,dz - np.amin(ts.positions[:,2])])\n",
    "        return ts\n",
    "    return wrapped\n",
    "\n",
    "def tUAZShiftNoMinZ(dz):\n",
    "    def wrapped(ts):\n",
    "        ts.positions += np.array( [0.0,0.0,dz ])\n",
    "        return ts\n",
    "    return wrapped\n",
    "\n",
    "minTheta = conf_theta  + 2.5\n",
    "minPhi = conf_phi + 2.5\n",
    "rot_phi   = -1.0 * minPhi  * (np.pi / 180.0)\n",
    "rot_theta = (180.0 - minTheta) * (np.pi / 180.0)\n",
    "\n",
    "u_prot = Universe(pdbIn)\n",
    "translateToCOM = tUACOM()\n",
    "applyRotation =  tUARotate( rot_phi, rot_theta)\n",
    "\n",
    "if foundCCD == False:\n",
    "    translateToSurface = tUAZShift( 10*(radii+conf_ssd+0.5) )\n",
    "else:\n",
    "    translateToSurface = tUAZShiftNoMinZ( 10*(conf_ccd) )\n",
    "#translateToSurface = tUAZShift( 10*(radii+conf_ssd+0.5) )\n",
    "u_prot.trajectory.add_transformations(*[translateToCOM,applyRotation,translateToSurface])"
   ]
  },
  {
   "cell_type": "code",
   "execution_count": 9,
   "id": "d9676c22",
   "metadata": {
    "scrolled": true
   },
   "outputs": [
    {
     "data": {
      "application/vnd.jupyter.widget-view+json": {
       "model_id": "d4505948a7804710ba232960ef956dc8",
       "version_major": 2,
       "version_minor": 0
      },
      "text/plain": [
       "NGLWidget()"
      ]
     },
     "metadata": {},
     "output_type": "display_data"
    }
   ],
   "source": [
    "viewProt=nv.show_mdanalysis(u_prot)\n",
    "viewProt._remote_call('setSize', target='Widget', args=['600px','600px'])\n",
    "viewProt.add_representation(repr_type='cartoon', selection='protein', color='residueindex')\n",
    "viewProt"
   ]
  },
  {
   "cell_type": "markdown",
   "id": "32660bd0",
   "metadata": {},
   "source": [
    "# Combine with NP coordinate"
   ]
  },
  {
   "cell_type": "code",
   "execution_count": 12,
   "id": "e6f63deb",
   "metadata": {},
   "outputs": [],
   "source": [
    "\n",
    "hamakerToElementDataFile = open(\"NPbeadtypedefinitions.csv\",\"r\")\n",
    "elemDic ={}\n",
    "typeDic = {}\n",
    "beadDicRGB = {}\n",
    "beadDicHex = {}\n",
    "materialPropertiesDict ={}\n",
    "\n",
    "def rgbToHex(rgb):\n",
    "    return int(  \"0x\"+('{:02X}' * 3).format(int(round(rgb[0]*255)), int(round(rgb[1]*255)), int(round(rgb[2]*255))),16)\n",
    "\n",
    "#expected format: Hamaker file, short element-like symbol, type, R (0-1), G (0-1), B(0-1)\n",
    "for line in  hamakerToElementDataFile:\n",
    "    if line[0] == \"#\":\n",
    "        continue\n",
    "    lineTerms = line.strip().split(\",\")\n",
    "    \n",
    "    elemDic[lineTerms[0]] = lineTerms[1]\n",
    "    typeDic[lineTerms[0]] = lineTerms[2]\n",
    "    rc =  np.clip ( float(lineTerms[3]),0,1)\n",
    "    gc = np.clip( float(lineTerms[4]),0,1)\n",
    "    bc = np.clip( float(lineTerms[5]),0,1)\n",
    "    beadDicRGB[lineTerms[0]] = [ rc,gc,bc ]\n",
    "    beadDicHex[lineTerms[0]] = rgbToHex( [ rc,gc,bc ])\n",
    "    materialPropertiesDict[ lineTerms[0] ] = [ lineTerms[1], lineTerms[2] , [rc,gc,bc] , rgbToHex([rc,gc,bc])]\n",
    "    \n",
    "\n",
    "    "
   ]
  },
  {
   "cell_type": "code",
   "execution_count": null,
   "id": "ac2b3a68",
   "metadata": {},
   "outputs": [],
   "source": [
    "\n"
   ]
  },
  {
   "cell_type": "code",
   "execution_count": 13,
   "id": "a584b07d",
   "metadata": {},
   "outputs": [],
   "source": [
    "nameLst=[]\n",
    "resLst=[]\n",
    "typeLst=[]\n",
    "elemLst=[]\n",
    "coorArr=[]\n",
    "for i, line in enumerate(NPres):\n",
    "    npHamakerType = line[1]\n",
    "    if npHamakerType not in typeDic:\n",
    "        print(\"Warning: \", line[1], \" not a known type of NP. Using auto-generated colours and label, please update NPbeadtypedefinitions.csv\") \n",
    "        typeName = npHamakerType\n",
    "        typeDic[typeName] = (typeName+\"XXX\")[:3]\n",
    "        elemDic[typeName] = (typeName+\"XXX\")[:2]\n",
    "        beadDicRGB[typeName] = [   1.0, 0, 1.0]\n",
    "        beadDicHex = rgbToHex( [1.0,0,1.0])\n",
    "    typeLst.append(typeDic[npHamakerType])\n",
    "    elemLst.append(elemDic[npHamakerType])\n",
    "    nameLst.append(line[0] )\n",
    "    resLst.append(npHamakerType)\n",
    "    coorArr.append(NPcoord[i])\n",
    "    \n",
    "#print(nameLst)\n",
    "#print(typeLst)\n",
    "n_residues = len(NPres)\n",
    "n_atoms = len(NPres)\n",
    "resindices = np.repeat(range(n_residues), 1)\n",
    "assert len(resindices) == n_atoms\n",
    "segindices = [0] * n_residues\n",
    "u_nano = mda.Universe.empty(n_atoms,\n",
    "                         n_residues=n_residues,\n",
    "                         atom_resindex=resindices,\n",
    "                         residue_segindex=segindices,\n",
    "                         trajectory=True)\n",
    "u_nano.add_TopologyAttr('name', nameLst)\n",
    "u_nano.add_TopologyAttr('type', typeLst)\n",
    "u_nano.add_TopologyAttr('elements', elemLst)\n",
    "u_nano.add_TopologyAttr('resname', resLst)\n",
    "u_nano.add_TopologyAttr('resid', list(range(1, n_residues+1)))\n",
    "u_nano.add_TopologyAttr('segid', [\"NP\"])\n",
    "u_nano.atoms.positions = coorArr\n",
    "\n",
    "pdb_combo=pdbCGfolder+core+\"_\"+str(protein)+'_CG.pdb'\n",
    "combo = Merge(u_prot.atoms, u_nano.atoms)\n",
    "combo.atoms.write(pdb_combo)"
   ]
  },
  {
   "cell_type": "markdown",
   "id": "b6454b87",
   "metadata": {},
   "source": [
    "# Visualize NP-protein complex"
   ]
  },
  {
   "cell_type": "code",
   "execution_count": 14,
   "id": "3d07f589",
   "metadata": {
    "scrolled": false
   },
   "outputs": [
    {
     "name": "stdout",
     "output_type": "stream",
     "text": [
      "Adding 1 beads of radius 1.0 material:  Ag322-PMFP  colour: 14408667\n"
     ]
    },
    {
     "data": {
      "application/vnd.jupyter.widget-view+json": {
       "model_id": "6a0b1bb4faa5408eaa182cad3813a286",
       "version_major": 2,
       "version_minor": 0
      },
      "text/plain": [
       "NGLWidget()"
      ]
     },
     "metadata": {},
     "output_type": "display_data"
    }
   ],
   "source": [
    "#generate dummy spheres for testing\n",
    "thetaRange = np.linspace( 0, np.pi, 3)\n",
    "phiRange = np.linspace(0, 2*np.pi,5)\n",
    "dummyBeadCenters = []\n",
    "for theta in thetaRange:\n",
    "    for phi in phiRange:\n",
    "        dummyBeadCenters.append( [np.cos(phi)*np.sin(theta),np.sin(phi)*np.sin(theta),np.cos(theta)] )\n",
    "dummyBeads = np.array(dummyBeadCenters)\n",
    "numNPBeads = len(PlotNPBeads)\n",
    "\n",
    "view=nv.show_mdanalysis(combo)\n",
    "view._remote_call('setSize', target='Widget', args=['400px','600px'])\n",
    "view.clear_representations()\n",
    "view.add_representation(repr_type='cartoon', selection='protein', color='residueindex')\n",
    "view.add_representation(repr_type='surface', surfaceType= 'av',  opaqueBack=False, selection='protein', opacity=0.05, color='indigo')\n",
    "\n",
    "\n",
    "beadRadiusScale = 10\n",
    "for beadType in NPBeadTypes:\n",
    "    beadRadius = beadType[0]\n",
    "    beadMaterial = beadType[1]\n",
    "    equivName = beadMaterial+str(int(beadRadius*10))\n",
    "    #beadTypeIndices= np.nonzero(np.logical_and(  NPRs[:,1]==beadMaterial,  np.abs( NPRs[:,2].astype(float)   - beadRadius) < 0.05) )[0]\n",
    "    beadTypeIndices = combo.select_atoms(\"name \"+equivName ).ix\n",
    "    #print(beadTypeIndices)\n",
    "    if beadMaterial in materialPropertiesDict:\n",
    "        beadColourHex = materialPropertiesDict[beadMaterial][3]\n",
    "        beadColourRGB = materialPropertiesDict[beadMaterial][2]\n",
    "    else:\n",
    "        #beadColourHex = \"0x000000\"\n",
    "        beadColourRGB = [1,0,1]\n",
    "        beadColourHex = rgbToHex(beadColourRGB )\n",
    "        print(\"Warning: No colour set for \", beadMaterial)\n",
    "    if len(beadTypeIndices) < 1:\n",
    "        continue\n",
    "    print(\"Adding\", len(beadTypeIndices) , \"beads of radius\", beadRadius, \"material: \", beadMaterial, \" colour:\", beadColourHex)\n",
    "    minBeadRadius = 1\n",
    "    plotRadius = min(beadRadiusScale*minBeadRadius, beadRadiusScale*beadRadius)\n",
    "    view.add_representation('spacefill',  selection=beadTypeIndices, color=beadColourHex, opacity=1.0,  radius=plotRadius, scale=1, radiusType=\"size\")\n",
    "\n",
    "\n",
    "\n",
    "#for bds in list(beadDicHex.keys()):\n",
    "#    view.add_representation(repr_type='spacefill', selection=bds,  opacity=0.6, color=beadDicHex[bds], radius=(radii*10))\n",
    "central = view.shape\n",
    "#central.add_sphere([ 0.0, 0.0, 0.0 ], [1.0,0.0,0.0], radii* 1,core+\"1x\")\n",
    "\n",
    "outersurfaceRadius = 0\n",
    "#plot larger beads as spheres\n",
    "for npBead in PlotNPBeads:\n",
    "    npBeadLoc = np.array( npBead[0:3] ) *10\n",
    "    npBeadRadius = float(npBead[4])*10\n",
    "    if npBeadRadius < minBeadRadius*beadRadiusScale:\n",
    "        continue\n",
    "    #print(\"adding sphere for \", npBead)\n",
    "    beadMaterial = npBead[3]\n",
    "    central.add_sphere( npBeadLoc ,  beadDicRGB[beadMaterial], npBeadRadius,beadMaterial)\n",
    "    outersurface = max(npBeadRadius,outersurfaceRadius)\n",
    "    for dummyBead in dummyBeads:\n",
    "        dbArr = np.array(dummyBead)\n",
    "        #print(dbArr)\n",
    "        dbLoc = (dbArr * npBeadRadius*0.8) +  npBeadLoc \n",
    "        #print(\"Adding dummy bead at: \", dbLoc)\n",
    "        central.add_sphere(dbLoc,  beadDicRGB[beadMaterial], 1,beadMaterial)\n",
    "\n",
    "        \n",
    "#add an axis - just for debugging\n",
    "addAxis = False\n",
    "if addAxis == True:\n",
    "    central.add_cylinder( [0,0,outersurfaceRadius+100] , [600,0,outersurfaceRadius+100 ], [1.0,0.0,0.0], 25 ) #x\n",
    "    central.add_cylinder( [0,0,outersurfaceRadius+100] , [0,600,outersurfaceRadius+100 ], [0.0,1.0,0.0], 25 ) #y\n",
    "    central.add_cylinder( [0,0,outersurfaceRadius+100] , [0,0,600+outersurfaceRadius+100 ], [0.0,0.0,1.0], 25) #z\n",
    "        \n",
    "#central.add_sphere([ 0.0, 0.0, 0.0 ], [0.0,1.0,0.0], radii* 10,core+\"10x\")\n",
    "view.center()\n",
    "view.control.spin([1,0,0], 90*np.pi/180.0)\n",
    "view.control.spin([0,1,0],np.pi)\n",
    "#view.control.spin([1,0,0], 90*np.pi/180.0)\n",
    "#view.control.spin([0,1,0], 25*np.pi/180.0)\n",
    "view"
   ]
  },
  {
   "cell_type": "code",
   "execution_count": 15,
   "id": "e190ee63",
   "metadata": {},
   "outputs": [
    {
     "data": {
      "text/plain": [
       "'Ag322-PMFP_P02768_CG.png'"
      ]
     },
     "execution_count": 15,
     "metadata": {},
     "output_type": "execute_result"
    }
   ],
   "source": [
    "view.parameters = dict(theme='light')\n",
    "filename=core+\"_\"+str(protein)+'_CG.png'\n",
    "view.download_image(filename=filename , factor=10, transparent=True)\n",
    "filename"
   ]
  },
  {
   "cell_type": "code",
   "execution_count": null,
   "id": "e68eda00",
   "metadata": {},
   "outputs": [],
   "source": []
  },
  {
   "cell_type": "code",
   "execution_count": null,
   "id": "976c58b0",
   "metadata": {},
   "outputs": [],
   "source": []
  },
  {
   "cell_type": "code",
   "execution_count": null,
   "id": "72c8090a",
   "metadata": {},
   "outputs": [],
   "source": []
  },
  {
   "cell_type": "code",
   "execution_count": null,
   "id": "21eecd2c",
   "metadata": {},
   "outputs": [],
   "source": []
  }
 ],
 "metadata": {
  "jupytext": {
   "cell_metadata_filter": "-all",
   "executable": " /usr/bin/python",
   "main_language": "python",
   "notebook_metadata_filter": "-all"
  },
  "kernelspec": {
   "display_name": "Python 3 (ipykernel)",
   "language": "python",
   "name": "python3"
  },
  "language_info": {
   "codemirror_mode": {
    "name": "ipython",
    "version": 3
   },
   "file_extension": ".py",
   "mimetype": "text/x-python",
   "name": "python",
   "nbconvert_exporter": "python",
   "pygments_lexer": "ipython3",
   "version": "3.10.12"
  }
 },
 "nbformat": 4,
 "nbformat_minor": 5
}
