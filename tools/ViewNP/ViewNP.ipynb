{
 "cells": [
  {
   "cell_type": "code",
   "execution_count": 3,
   "id": "b34483e6",
   "metadata": {},
   "outputs": [
    {
     "data": {
      "application/vnd.jupyter.widget-view+json": {
       "model_id": "7f5b61d75b684e35bd3b693fa1a9c7b6",
       "version_major": 2,
       "version_minor": 0
      },
      "text/plain": [
       "A Jupyter Widget"
      ]
     },
     "metadata": {},
     "output_type": "display_data"
    }
   ],
   "source": [
    "import os\n",
    "import math\n",
    "import numpy as np\n",
    "import pandas as pd\n",
    "import re\n",
    "import nglview as nv\n",
    "import mdtraj as md\n",
    "import MDAnalysis as mda"
   ]
  },
  {
   "cell_type": "code",
   "execution_count": 6,
   "id": "f84545b0",
   "metadata": {},
   "outputs": [],
   "source": [
    "#I/O\n",
    "wd=os.getcwd()+\"/\"\n",
    "npIn='Ag111-26.35_PEG-19.9_zp-0.031.np' #kep this naming format, so NP parameters can be read in in next step\n",
    "pdbOut=npIn.rsplit('.', 1)[0]+\".pdb\"\n",
    "pngOut=npIn.rsplit('.', 1)[0]+\".png\""
   ]
  },
  {
   "cell_type": "code",
   "execution_count": 7,
   "id": "a2ccd3d3",
   "metadata": {},
   "outputs": [],
   "source": [
    "rCore=float(npIn.rsplit('.', 1)[0].rsplit('_')[0].rsplit('-')[1])\n",
    "rDecor=3.0\n",
    "core=re.sub(\"[^a-zA-Z]+\", \"\", npIn.rsplit('.', 1)[0].rsplit('_')[0].rsplit('-')[0])\n",
    "decor=npIn.rsplit('.', 1)[0].rsplit('_')[1].rsplit('-')[0]"
   ]
  },
  {
   "cell_type": "code",
   "execution_count": 8,
   "id": "d702ab73",
   "metadata": {},
   "outputs": [],
   "source": [
    "elemDic=    { \"Ag\"   : \"Ag\",\n",
    "               \"PEG\" : \"C\"}\n",
    "typeDic=    {  \"Ag\"  : \"AGM\",\n",
    "               \"PEG\" : \"CPG\"}\n",
    "beadDicRGB= {  \"Ag\"  : [0.23, 0.27, 0.29],\n",
    "               \"PEG\" : [0.98, 0.94, 0.75]}\n",
    "beadDicHex= {   \"Ag\" : \"#3B444B\",\n",
    "                \"PEG\": \"#FAF0BE\"}\n",
    "beadRDic=   {    \"Ag\": rCore,\n",
    "                \"PEG\": rDecor}"
   ]
  },
  {
   "cell_type": "code",
   "execution_count": 9,
   "id": "46d07ded",
   "metadata": {},
   "outputs": [
    {
     "name": "stderr",
     "output_type": "stream",
     "text": [
      "/tmp/ipykernel_459272/2767191048.py:1: VisibleDeprecationWarning: Reading unicode strings without specifying the encoding argument is deprecated. Set the encoding, use None for the system default.\n",
      "  rawNP         = np.genfromtxt(wd+npIn,  delimiter=',' , skip_header=1, dtype=None)\n"
     ]
    }
   ],
   "source": [
    "rawNP         = np.genfromtxt(wd+npIn,  delimiter=',' , skip_header=1, dtype=None)\n",
    "NPcoordList=[]\n",
    "NPresNameArray=[]\n",
    "NPRad=[]\n",
    "if rawNP.size > 1:\n",
    "    i=1\n",
    "    for line in rawNP:\n",
    "        npX, npY, npZ, npR, _, _, _, _, ss, _, _, _ = line\n",
    "        solid=(((str(ss)).rsplit( \"/\" )[1]).rsplit( \".\" ))[0]\n",
    "        NPresNameArray.append([solid, solid, int(i)])\n",
    "        NPcoordList.append([float(round(npX,3)*10), float(round(npY,3)*10), float(round(npZ,3)*10)])\n",
    "        NPRad.append([int(i), solid, float(npR)])\n",
    "        i=i+1\n",
    "if rawNP.size ==1:\n",
    "    NPcoordList.append([0.0, 0.0, 0.0])\n",
    "    NPresNameArray.append([core,core, 1])\n",
    "    NPRad.append([1,core, radii])\n",
    "NPcoord=np.array(NPcoordList)\n",
    "NPres=np.array(NPresNameArray)\n",
    "NPRs=np.array(NPRad)    "
   ]
  },
  {
   "cell_type": "code",
   "execution_count": 10,
   "id": "ce1cffd7",
   "metadata": {},
   "outputs": [
    {
     "name": "stderr",
     "output_type": "stream",
     "text": [
      "/home/ysubbotina/anaconda3/lib/python3.9/site-packages/MDAnalysis/coordinates/PDB.py:753: UserWarning: Unit cell dimensions not found. CRYST1 record set to unitary values.\n",
      "  warnings.warn(\"Unit cell dimensions not found. \"\n",
      "/home/ysubbotina/anaconda3/lib/python3.9/site-packages/MDAnalysis/coordinates/PDB.py:1129: UserWarning: Found no information for attr: 'altLocs' Using default value of ' '\n",
      "  warnings.warn(\"Found no information for attr: '{}'\"\n",
      "/home/ysubbotina/anaconda3/lib/python3.9/site-packages/MDAnalysis/coordinates/PDB.py:1129: UserWarning: Found no information for attr: 'icodes' Using default value of ' '\n",
      "  warnings.warn(\"Found no information for attr: '{}'\"\n",
      "/home/ysubbotina/anaconda3/lib/python3.9/site-packages/MDAnalysis/coordinates/PDB.py:1129: UserWarning: Found no information for attr: 'chainIDs' Using default value of ''\n",
      "  warnings.warn(\"Found no information for attr: '{}'\"\n",
      "/home/ysubbotina/anaconda3/lib/python3.9/site-packages/MDAnalysis/coordinates/PDB.py:1129: UserWarning: Found no information for attr: 'occupancies' Using default value of '1.0'\n",
      "  warnings.warn(\"Found no information for attr: '{}'\"\n",
      "/home/ysubbotina/anaconda3/lib/python3.9/site-packages/MDAnalysis/coordinates/PDB.py:1129: UserWarning: Found no information for attr: 'tempfactors' Using default value of '0.0'\n",
      "  warnings.warn(\"Found no information for attr: '{}'\"\n",
      "/home/ysubbotina/anaconda3/lib/python3.9/site-packages/MDAnalysis/coordinates/PDB.py:1129: UserWarning: Found no information for attr: 'record_types' Using default value of 'ATOM'\n",
      "  warnings.warn(\"Found no information for attr: '{}'\"\n",
      "/home/ysubbotina/anaconda3/lib/python3.9/site-packages/MDAnalysis/coordinates/PDB.py:1129: UserWarning: Found no information for attr: 'formalcharges' Using default value of '0'\n",
      "  warnings.warn(\"Found no information for attr: '{}'\"\n",
      "/home/ysubbotina/anaconda3/lib/python3.9/site-packages/MDAnalysis/coordinates/PDB.py:1176: UserWarning: Found missing chainIDs. Corresponding atoms will use value of 'X'\n",
      "  warnings.warn(\"Found missing chainIDs.\"\n"
     ]
    }
   ],
   "source": [
    "nameLst=[]\n",
    "resLst=[]\n",
    "typeLst=[]\n",
    "elemLst=[]\n",
    "coorArr=[]\n",
    "for i, line in enumerate(NPres):\n",
    "    typeLst.append(typeDic[line[0]])\n",
    "    elemLst.append(elemDic[line[0]])\n",
    "    nameLst.append(line[0])\n",
    "    resLst.append(line[1].upper())\n",
    "    coorArr.append(NPcoord[i])\n",
    "n_residues = len(NPres)\n",
    "n_atoms = len(NPres)\n",
    "resindices = np.repeat(range(n_residues), 1)\n",
    "assert len(resindices) == n_atoms\n",
    "segindices = [0] * n_residues\n",
    "u_nano = mda.Universe.empty(n_atoms,\n",
    "                         n_residues=n_residues,\n",
    "                         atom_resindex=resindices,\n",
    "                         residue_segindex=segindices,\n",
    "                         trajectory=True)\n",
    "u_nano.add_TopologyAttr('name', typeLst)\n",
    "u_nano.add_TopologyAttr('type', typeLst)\n",
    "u_nano.add_TopologyAttr('elements', elemLst)\n",
    "u_nano.add_TopologyAttr('resname', resLst)\n",
    "u_nano.add_TopologyAttr('resid', list(range(1, n_residues+1)))\n",
    "u_nano.add_TopologyAttr('segid', [\"NP\"])\n",
    "u_nano.atoms.positions = coorArr\n",
    "u_nano.atoms.write(wd+pdbOut)"
   ]
  },
  {
   "cell_type": "code",
   "execution_count": 11,
   "id": "6681b0fa",
   "metadata": {},
   "outputs": [
    {
     "data": {
      "application/vnd.jupyter.widget-view+json": {
       "model_id": "1d8c29190b7c4325ba58393d034b823e",
       "version_major": 2,
       "version_minor": 0
      },
      "text/plain": [
       "A Jupyter Widget"
      ]
     },
     "metadata": {},
     "output_type": "display_data"
    }
   ],
   "source": [
    "view=nv.show_mdanalysis(u_nano)\n",
    "view.clear_representations()\n",
    "view._remote_call('setSize', target='Widget', args=['400px','400px'])\n",
    "view.add_representation(repr_type='spacefill', selection=decor,  opacity=0.25, color=beadDicHex[decor], radius=rDecor*10)\n",
    "shape = view.shape\n",
    "shape.add_sphere([ 0.0, 0.0, 0.0 ], beadDicRGB[core], rCore*10, core.upper())\n",
    "view.update_representation()\n",
    "view.center()\n",
    "view.parameters = dict(theme='light')\n",
    "view.download_image(filename=pngOut , factor=10, transparent=True, trim=True)\n",
    "view"
   ]
  },
  {
   "cell_type": "code",
   "execution_count": null,
   "id": "8bd1aed3",
   "metadata": {},
   "outputs": [],
   "source": []
  }
 ],
 "metadata": {
  "kernelspec": {
   "display_name": "Python 3 (ipykernel)",
   "language": "python",
   "name": "python3"
  },
  "language_info": {
   "codemirror_mode": {
    "name": "ipython",
    "version": 3
   },
   "file_extension": ".py",
   "mimetype": "text/x-python",
   "name": "python",
   "nbconvert_exporter": "python",
   "pygments_lexer": "ipython3",
   "version": "3.9.15"
  }
 },
 "nbformat": 4,
 "nbformat_minor": 5
}
