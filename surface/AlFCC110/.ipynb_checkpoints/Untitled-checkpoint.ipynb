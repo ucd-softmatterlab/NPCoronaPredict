{
 "cells": [
  {
   "cell_type": "code",
   "execution_count": null,
   "id": "db062c23",
   "metadata": {},
   "outputs": [],
   "source": [
    "import numpy as np\n",
    "\n",
    "# Read the data from the .dat file\n",
    "data = np.loadtxt('your_file.dat')\n",
    "\n",
    "# Extract columns\n",
    "distance = data[:, 0]\n",
    "energy = data[:, 1]\n",
    "\n",
    "# Shift the distance values by adding 0.1\n",
    "distance_shifted = distance + 0.1\n",
    "\n",
    "# Update the distance column in the data\n",
    "data[:, 0] = distance_shifted\n",
    "\n",
    "# Save the updated data back to the file\n",
    "np.savetxt('your_file.dat', data, delimiter=' ')"
   ]
  }
 ],
 "metadata": {
  "kernelspec": {
   "display_name": "Python 3 (ipykernel)",
   "language": "python",
   "name": "python3"
  },
  "language_info": {
   "codemirror_mode": {
    "name": "ipython",
    "version": 3
   },
   "file_extension": ".py",
   "mimetype": "text/x-python",
   "name": "python",
   "nbconvert_exporter": "python",
   "pygments_lexer": "ipython3",
   "version": "3.9.7"
  }
 },
 "nbformat": 4,
 "nbformat_minor": 5
}
